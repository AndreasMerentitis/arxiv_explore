{
 "cells": [
  {
   "cell_type": "code",
   "execution_count": 2,
   "metadata": {},
   "outputs": [],
   "source": [
    "%matplotlib inline\n",
    "import numpy as np\n",
    "import pandas\n",
    "import matplotlib.pyplot as plt\n",
    "import tensorflow"
   ]
  },
  {
   "cell_type": "code",
   "execution_count": 3,
   "metadata": {},
   "outputs": [],
   "source": [
    "from tensorflow.keras.preprocessing.sequence import pad_sequences"
   ]
  },
  {
   "cell_type": "code",
   "execution_count": 14,
   "metadata": {},
   "outputs": [],
   "source": [
    "maxlen = 100\n",
    "max_words = 10000 # Top 10000 words\n",
    "dictionary_file = \"dictionary.json\"\n",
    "model_file = \"model.json\"\n",
    "\n",
    "target_name_dict = { 'astro-ph.GA' : 0,\n",
    "                     'astro-ph.SR' : 1,\n",
    "                     'astro-ph.IM' : 2,\n",
    "                     'astro-ph.EP' : 3,\n",
    "                     'astro-ph.HE' : 4,\n",
    "                     'astro-ph.CO' : 5\n",
    "                   }\n",
    "target_name = [k for k, v in target_name_dict.items()]"
   ]
  },
  {
   "cell_type": "code",
   "execution_count": 5,
   "metadata": {},
   "outputs": [],
   "source": [
    "from simpletokenizer import SimpleTokenizer\n",
    "\n",
    "tokenizer = SimpleTokenizer(dictionary_file)"
   ]
  },
  {
   "cell_type": "code",
   "execution_count": 6,
   "metadata": {},
   "outputs": [],
   "source": [
    "texts = [\"We found a new planet!\"]\n",
    "seq = tokenizer.texts_to_sequences(texts)"
   ]
  },
  {
   "cell_type": "code",
   "execution_count": 7,
   "metadata": {},
   "outputs": [
    {
     "name": "stdout",
     "output_type": "stream",
     "text": [
      "[[  0   0   0   0   0   0   0   0   0   0   0   0   0   0   0   0   0   0\n",
      "    0   0   0   0   0   0   0   0   0   0   0   0   0   0   0   0   0   0\n",
      "    0   0   0   0   0   0   0   0   0   0   0   0   0   0   0   0   0   0\n",
      "    0   0   0   0   0   0   0   0   0   0   0   0   0   0   0   0   0   0\n",
      "    0   0   0   0   0   0   0   0   0   0   0   0   0   0   0   0   0   0\n",
      "    0   0   0   0   0   7 103   4  81 225]]\n"
     ]
    }
   ],
   "source": [
    "seq_pad = pad_sequences(seq, maxlen=maxlen)\n",
    "print(seq_pad)"
   ]
  },
  {
   "cell_type": "code",
   "execution_count": 8,
   "metadata": {},
   "outputs": [],
   "source": [
    "from tensorflow.keras.models import model_from_json, model_from_config\n",
    "import json"
   ]
  },
  {
   "cell_type": "code",
   "execution_count": 9,
   "metadata": {},
   "outputs": [],
   "source": [
    "#with open(model_file, 'r') as json_file:\n",
    "#    architecture = json.load(json_file)\n",
    "#    model = model_from_config(architecture)\n",
    "    \n",
    "with open(model_file, 'r') as json_file:\n",
    "    architecture = json_file.read()\n",
    "    model = model_from_json(architecture)"
   ]
  },
  {
   "cell_type": "code",
   "execution_count": 10,
   "metadata": {},
   "outputs": [
    {
     "name": "stdout",
     "output_type": "stream",
     "text": [
      "_________________________________________________________________\n",
      "Layer (type)                 Output Shape              Param #   \n",
      "=================================================================\n",
      "embedding_15 (Embedding)     (None, 100, 100)          1000000   \n",
      "_________________________________________________________________\n",
      "flatten_12 (Flatten)         (None, 10000)             0         \n",
      "_________________________________________________________________\n",
      "dense_29 (Dense)             (None, 32)                320032    \n",
      "_________________________________________________________________\n",
      "dropout_7 (Dropout)          (None, 32)                0         \n",
      "_________________________________________________________________\n",
      "dense_30 (Dense)             (None, 6)                 198       \n",
      "=================================================================\n",
      "Total params: 1,320,230\n",
      "Trainable params: 320,230\n",
      "Non-trainable params: 1,000,000\n",
      "_________________________________________________________________\n"
     ]
    }
   ],
   "source": [
    "model.summary()"
   ]
  },
  {
   "cell_type": "code",
   "execution_count": 11,
   "metadata": {},
   "outputs": [],
   "source": [
    "model.compile(optimizer='adam', loss='binary_crossentropy', metrics=['acc'])"
   ]
  },
  {
   "cell_type": "code",
   "execution_count": 12,
   "metadata": {},
   "outputs": [],
   "source": [
    "model.load_weights(\"arxiv_explore_keras_Jan20.h5\", by_name=True)"
   ]
  },
  {
   "cell_type": "code",
   "execution_count": 16,
   "metadata": {},
   "outputs": [
    {
     "name": "stdout",
     "output_type": "stream",
     "text": [
      "['astro-ph.GA', 'astro-ph.SR', 'astro-ph.IM', 'astro-ph.EP', 'astro-ph.HE', 'astro-ph.CO']\n",
      "[0.23718327 0.19181998 0.0080737  0.0327327  0.12006622 0.21885613]\n",
      "astro-ph.GA\n",
      "[0.18009089 0.2798115  0.05312736 0.13350321 0.14886184 0.165439  ]\n",
      "astro-ph.SR\n",
      "[0.20542327 0.13640682 0.01302256 0.01928018 0.11911584 0.32082808]\n",
      "astro-ph.CO\n",
      "[0.1695698  0.24559225 0.13564122 0.1293914  0.1728481  0.20802929]\n",
      "astro-ph.SR\n",
      "[0.17413644 0.26029035 0.09075928 0.13118671 0.1619396  0.18836707]\n",
      "astro-ph.SR\n",
      "[0.17517659 0.26908582 0.06914829 0.12940335 0.15682735 0.1762344 ]\n",
      "astro-ph.SR\n",
      "[0.0746217  0.21029827 0.01081681 0.01241784 0.28738827 0.12792465]\n",
      "astro-ph.HE\n",
      "[6.4840280e-02 1.8388242e-02 1.0399697e-03 3.0502304e-04 4.1551776e-02\n",
      " 8.3405989e-01]\n",
      "astro-ph.CO\n"
     ]
    }
   ],
   "source": [
    "texts = [\"In this paper, we analyze a suite of isolated galaxy simulations. We find that spiral density wave theory are correct. In particular, it correctly predict the growth of two-armed spiral structure. The star formation are triggered by the spiral waves. The pattern speed is consistent with the observation of corotation in the galaxy sample.\",\n",
    "        \"We discovered a new forming planet. This planet has ten Jupiter-mass and is embedded in a protoplanetary disks.\",\n",
    "         \"We show that the mass fraction of GMC gas (n>100 cm^-3) in dense (n>>10^4 cm^-3) star-forming clumps, observable in dense molecular tracers (L_HCN/L_CO(1-0)), is a sensitive probe of the strength and mechanism(s) of stellar feedback. Using high-resolution galaxy-scale simulations with pc-scale resolution and explicit models for feedback from radiation pressure, photoionization heating, stellar winds, and supernovae (SNe), we make\",\n",
    "         \"We have built a new telescope.\",\n",
    "         \"We have observed a new sun spot.\",\n",
    "         \"We found that Pluto is indeed a Planet.\",\n",
    "         \"We found a new neutron star. This neutron star has a very strong magnetic field.\",\n",
    "         \"We discovered the B-modes in the cosmological microwave background, which are the imprints of the primodal density fluctuation. This has a great impact on the understanding of cosmology and inflation.\"\n",
    "        ]\n",
    "seq = tokenizer.texts_to_sequences(texts)\n",
    "seq = pad_sequences(seq, maxlen=maxlen)\n",
    "proba = model.predict_proba(seq)\n",
    "print(target_name)\n",
    "for p in proba:\n",
    "    print(p)\n",
    "    print(target_name[np.argmax(p)])"
   ]
  },
  {
   "cell_type": "code",
   "execution_count": 24,
   "metadata": {},
   "outputs": [],
   "source": []
  },
  {
   "cell_type": "code",
   "execution_count": 25,
   "metadata": {},
   "outputs": [
    {
     "name": "stdout",
     "output_type": "stream",
     "text": [
      "_________________________________________________________________\n",
      "Layer (type)                 Output Shape              Param #   \n",
      "=================================================================\n",
      "embedding_15 (Embedding)     (None, 100, 100)          1000000   \n",
      "_________________________________________________________________\n",
      "flatten_12 (Flatten)         (None, 10000)             0         \n",
      "_________________________________________________________________\n",
      "dense_29 (Dense)             (None, 32)                320032    \n",
      "_________________________________________________________________\n",
      "dropout_7 (Dropout)          (None, 32)                0         \n",
      "_________________________________________________________________\n",
      "dense_30 (Dense)             (None, 6)                 198       \n",
      "=================================================================\n",
      "Total params: 1,320,230\n",
      "Trainable params: 320,230\n",
      "Non-trainable params: 1,000,000\n",
      "_________________________________________________________________\n"
     ]
    }
   ],
   "source": [
    "model.summary()"
   ]
  },
  {
   "cell_type": "code",
   "execution_count": 14,
   "metadata": {},
   "outputs": [],
   "source": [
    "import h5py"
   ]
  },
  {
   "cell_type": "code",
   "execution_count": 21,
   "metadata": {},
   "outputs": [
    {
     "name": "stdout",
     "output_type": "stream",
     "text": [
      "dense_29\n",
      "dense_30\n",
      "dropout_7\n",
      "embedding_15\n",
      "flatten_12\n"
     ]
    }
   ],
   "source": [
    "h5f = h5py.File(\"arxiv_explore_keras_Jan20.h5\", \"r\")\n",
    "for k in h5f.keys():\n",
    "    print(k)\n",
    "h5f.close()"
   ]
  },
  {
   "cell_type": "code",
   "execution_count": 17,
   "metadata": {},
   "outputs": [
    {
     "name": "stdout",
     "output_type": "stream",
     "text": [
      "dense_25\n",
      "dense_26\n",
      "dropout_5\n",
      "embedding_13\n",
      "flatten_10\n"
     ]
    }
   ],
   "source": []
  },
  {
   "cell_type": "code",
   "execution_count": null,
   "metadata": {},
   "outputs": [],
   "source": []
  }
 ],
 "metadata": {
  "kernelspec": {
   "display_name": "tf-gpu",
   "language": "python",
   "name": "tf-gpu"
  },
  "language_info": {
   "codemirror_mode": {
    "name": "ipython",
    "version": 3
   },
   "file_extension": ".py",
   "mimetype": "text/x-python",
   "name": "python",
   "nbconvert_exporter": "python",
   "pygments_lexer": "ipython3",
   "version": "3.6.8"
  }
 },
 "nbformat": 4,
 "nbformat_minor": 2
}
