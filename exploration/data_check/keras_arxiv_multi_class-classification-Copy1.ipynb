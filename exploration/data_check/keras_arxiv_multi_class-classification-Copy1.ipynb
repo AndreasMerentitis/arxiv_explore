{
 "cells": [
  {
   "cell_type": "code",
   "execution_count": 118,
   "metadata": {},
   "outputs": [],
   "source": [
    "%matplotlib inline\n",
    "import numpy as np\n",
    "import pandas\n"
   ]
  },
  {
   "cell_type": "code",
   "execution_count": 164,
   "metadata": {},
   "outputs": [],
   "source": [
    "files = [\"../data/2014astroph_p.h5\",\n",
    "         \"../data/2015astroph_p.h5\",\n",
    "         \"../data/2016astroph_p.h5\",\n",
    "         \"../data/2017astroph_p.h5\",\n",
    "        ]\n",
    "\n",
    "texts = []\n",
    "labels = []\n",
    "for f in files:\n",
    "\n",
    "    store = pandas.HDFStore(f)\n",
    "    df = store['/df']\n",
    "    store.close()\n",
    "\n",
    "    texts += list(df['abstract'])\n",
    "    labels = np.hstack([labels,np.array(df['label'],dtype=int)])\n",
    "labels = np.asarray(labels, dtype=np.int32)"
   ]
  },
  {
   "cell_type": "code",
   "execution_count": 165,
   "metadata": {},
   "outputs": [
    {
     "name": "stdout",
     "output_type": "stream",
     "text": [
      "(97355,)\n",
      "int32\n"
     ]
    }
   ],
   "source": [
    "print(labels.shape)\n",
    "print(labels[0].dtype)"
   ]
  },
  {
   "cell_type": "markdown",
   "metadata": {},
   "source": [
    "# Labels"
   ]
  },
  {
   "cell_type": "code",
   "execution_count": 166,
   "metadata": {},
   "outputs": [],
   "source": [
    "target_name_dict = { 'astro-ph.GA' : 0,\n",
    "                     'astro-ph.SR' : 1,\n",
    "                     'astro-ph.IM' : 2,\n",
    "                     'astro-ph.EP' : 3,\n",
    "                     'astro-ph.HE' : 4,\n",
    "                     'astro-ph.CO' : 5\n",
    "                   }\n",
    "target_name = [k for k, v in target_name_dict.items()]"
   ]
  },
  {
   "cell_type": "markdown",
   "metadata": {},
   "source": [
    "# Tokenizing the data"
   ]
  },
  {
   "cell_type": "code",
   "execution_count": 167,
   "metadata": {},
   "outputs": [],
   "source": [
    "from keras.preprocessing.text import Tokenizer\n",
    "from keras.preprocessing.sequence import pad_sequences"
   ]
  },
  {
   "cell_type": "code",
   "execution_count": 168,
   "metadata": {},
   "outputs": [],
   "source": [
    "maxlen = 100\n",
    "max_words = 10000 # Top 10000 words\n",
    "\n",
    "tokenizer = Tokenizer(num_words=max_words)\n",
    "tokenizer.fit_on_texts(texts)\n",
    "# the list of text is converted into some sequences of integer\n",
    "sequences = tokenizer.texts_to_sequences(texts)"
   ]
  },
  {
   "cell_type": "code",
   "execution_count": 169,
   "metadata": {},
   "outputs": [
    {
     "name": "stdout",
     "output_type": "stream",
     "text": [
      "Found 100795 unique tokens\n"
     ]
    }
   ],
   "source": [
    "# this is the dictionary for each word -> index\n",
    "word_index = tokenizer.word_index\n",
    "print(\"Found %s unique tokens\" % len(word_index))\n",
    "# we build a reverse dictionary for converting integer back to a word\n",
    "word_index_reverse = {v:k for k,v in word_index.items()}"
   ]
  },
  {
   "cell_type": "code",
   "execution_count": 170,
   "metadata": {},
   "outputs": [
    {
     "name": "stdout",
     "output_type": "stream",
     "text": [
      "Number of index in word_index_reverse =  100795\n"
     ]
    }
   ],
   "source": [
    "print(\"Number of index in word_index_reverse = \", len(word_index_reverse))"
   ]
  },
  {
   "cell_type": "code",
   "execution_count": 171,
   "metadata": {},
   "outputs": [
    {
     "name": "stdout",
     "output_type": "stream",
     "text": [
      "An occurrence of an oscillating Universe is showed using an inhomogeneous\n",
      "equation of state for dark energy fluid. The Hubble parameter described\n",
      "presents a periodic behavior such that early and late time acceleration are\n",
      "unified under the same mechanism. Also, it is considered a coupling between\n",
      "dark energy fluid, with homogeneous and constant EoS, and matter, that gives a\n",
      "periodic Universe too. The possible phantom phases and future singularities are\n",
      "studied in the oscillating Universe under discussion. The equivalent\n",
      "scalar-tensor representation for the same oscillating Universe is presented\n",
      "too.\n",
      "astro-ph.CO\n",
      "sequence: [22, 2116, 2, 22, 3624, 266, 8, 1762, 47, 22, 2274, 600, 2, 247, 11, 87, 57, 1205, 1, 682, 250, 819, 1794, 4, 1134, 1017, 76, 10, 270, 3, 620, 66, 615, 12, 3050, 589, 1, 280, 454, 52, 51, 8, 665, 4, 845, 49, 87, 57, 1205, 9, 1478, 3, 440, 2283, 3, 86, 10, 1388, 4, 1134, 266, 1186, 1, 200, 3731, 1128, 3, 371, 4377, 12, 546, 5, 1, 3624, 266, 589, 2782, 1, 1029, 455, 1033, 3661, 11, 1, 280, 3624, 266, 8, 562, 1186]\n"
     ]
    }
   ],
   "source": [
    "print(texts[0])\n",
    "print(target_name[labels[0]])\n",
    "print(\"sequence:\", sequences[0])"
   ]
  },
  {
   "cell_type": "code",
   "execution_count": 172,
   "metadata": {},
   "outputs": [
    {
     "name": "stdout",
     "output_type": "stream",
     "text": [
      "[[7, 103, 4, 81, 225]]\n",
      "words from reversed dictionary :  ['we', 'found', 'a', 'new', 'planet']\n"
     ]
    }
   ],
   "source": [
    "seq_test = tokenizer.texts_to_sequences([\"We found a new planet!\"])\n",
    "print(seq_test)\n",
    "print(\"words from reversed dictionary : \", [word_index_reverse[i] for i in seq_test[0]])"
   ]
  },
  {
   "cell_type": "code",
   "execution_count": 173,
   "metadata": {},
   "outputs": [
    {
     "name": "stdout",
     "output_type": "stream",
     "text": [
      "data.shape:  (97355, 100)\n"
     ]
    }
   ],
   "source": [
    "# pad the sequences such that that are in the same length \n",
    "data = pad_sequences(sequences=sequences, maxlen=maxlen)\n",
    "# check the shape of data\n",
    "print(\"data.shape: \", data.shape)"
   ]
  },
  {
   "cell_type": "code",
   "execution_count": 175,
   "metadata": {},
   "outputs": [],
   "source": [
    "np.random.seed(1234)\n",
    "texts = np.array(texts)\n",
    "indices = np.arange(texts.shape[0])\n",
    "np.random.shuffle(indices)\n",
    "\n",
    "data = data[indices]\n",
    "labels = labels[indices]"
   ]
  },
  {
   "cell_type": "code",
   "execution_count": 176,
   "metadata": {},
   "outputs": [
    {
     "name": "stdout",
     "output_type": "stream",
     "text": [
      "number of training samples = 77884\n",
      "number of testing samples = 19471\n"
     ]
    }
   ],
   "source": [
    "training_ratio = 0.8\n",
    "training_samples = int(texts.shape[0]* training_ratio)\n",
    "testing_samples = texts.shape[0] - training_samples\n",
    "print(\"number of training samples =\", training_samples)\n",
    "print(\"number of testing samples =\", testing_samples)"
   ]
  },
  {
   "cell_type": "code",
   "execution_count": 177,
   "metadata": {},
   "outputs": [],
   "source": [
    "x_train = data[:training_samples]\n",
    "y_train = labels[:training_samples]\n",
    "\n",
    "x_test = data[training_samples:]\n",
    "y_test = labels[training_samples:]"
   ]
  },
  {
   "cell_type": "code",
   "execution_count": 178,
   "metadata": {},
   "outputs": [
    {
     "data": {
      "text/plain": [
       "9999"
      ]
     },
     "execution_count": 178,
     "metadata": {},
     "output_type": "execute_result"
    }
   ],
   "source": [
    "x_train.max()"
   ]
  },
  {
   "cell_type": "code",
   "execution_count": 179,
   "metadata": {},
   "outputs": [],
   "source": [
    "from tensorflow.keras.utils import to_categorical"
   ]
  },
  {
   "cell_type": "code",
   "execution_count": 180,
   "metadata": {},
   "outputs": [],
   "source": [
    "y_train_one_hot = to_categorical(y_train)\n",
    "y_test_one_hot = to_categorical(y_test)"
   ]
  },
  {
   "cell_type": "code",
   "execution_count": 181,
   "metadata": {},
   "outputs": [
    {
     "data": {
      "text/plain": [
       "array([0., 1., 0., 0., 0., 0.], dtype=float32)"
      ]
     },
     "execution_count": 181,
     "metadata": {},
     "output_type": "execute_result"
    }
   ],
   "source": [
    "y_train_one_hot[0]"
   ]
  },
  {
   "cell_type": "markdown",
   "metadata": {},
   "source": [
    "# Parsing GloVe file"
   ]
  },
  {
   "cell_type": "code",
   "execution_count": 182,
   "metadata": {},
   "outputs": [
    {
     "name": "stdout",
     "output_type": "stream",
     "text": [
      "Found 400000 word vectors.\n"
     ]
    }
   ],
   "source": [
    "import os\n",
    "glove_dir = \"../glove.6B/\"\n",
    "\n",
    "embeddings_index = {}\n",
    "f = open(os.path.join(glove_dir, 'glove.6B.100d.txt'))\n",
    "for line in f:\n",
    "    values = line.split()\n",
    "    word = values[0]\n",
    "    coefs = np.asarray(values[1:], dtype='float32')\n",
    "    embeddings_index[word] = coefs\n",
    "f.close()\n",
    "print(\"Found %s word vectors.\" % len(embeddings_index))"
   ]
  },
  {
   "cell_type": "code",
   "execution_count": null,
   "metadata": {},
   "outputs": [],
   "source": []
  },
  {
   "cell_type": "code",
   "execution_count": 183,
   "metadata": {},
   "outputs": [],
   "source": [
    "embeddings_dim = 100 # embedding dimension. It should correspond to the dimension used in the GloVe embedding above.\n",
    "\n",
    "embedding_matrix = np.zeros((max_words, embeddings_dim))\n",
    "for word, i in word_index.items():\n",
    "    if i < max_words:\n",
    "        embedding_vector = embeddings_index.get(word)\n",
    "        if embedding_vector is not None:\n",
    "            embedding_matrix[i] = embedding_vector"
   ]
  },
  {
   "cell_type": "code",
   "execution_count": 184,
   "metadata": {},
   "outputs": [
    {
     "name": "stdout",
     "output_type": "stream",
     "text": [
      "[[225], [2476], [604]]\n"
     ]
    }
   ],
   "source": [
    "test_texts = [\"planet\", \"moon\", \"inflation\"]\n",
    "test_seqs = tokenizer.texts_to_sequences(test_texts)\n",
    "print(test_seqs)\n",
    "# make a simple list\n",
    "test_seqs = [i[0] for i in test_seqs]\n",
    "# embedding vectors\n",
    "v1, v2, v3 = embedding_matrix[test_seqs, :] "
   ]
  },
  {
   "cell_type": "code",
   "execution_count": 185,
   "metadata": {},
   "outputs": [
    {
     "name": "stdout",
     "output_type": "stream",
     "text": [
      "distance between 'planet' and 'moon' =  4.94996420140533\n",
      "distance between 'planet' and 'inflation' =  8.217446595716604\n"
     ]
    }
   ],
   "source": [
    "print(\"distance between 'planet' and 'moon' = \", np.sqrt(np.sum( (v1-v2)**2)))\n",
    "print(\"distance between 'planet' and 'inflation' = \", np.sqrt(np.sum( (v1-v3)**2)))"
   ]
  },
  {
   "cell_type": "code",
   "execution_count": 186,
   "metadata": {},
   "outputs": [
    {
     "data": {
      "text/plain": [
       "array([-0.32488999,  0.11055   ,  1.45510006,  0.38167   ,  0.099116  ,\n",
       "       -0.14963   ,  0.3576    , -0.11741   ,  0.40503001, -0.025728  ,\n",
       "        0.21314999, -0.18059   ,  0.38213   , -0.78319001,  0.13713001,\n",
       "       -0.90873998,  0.80195999,  0.45897999,  0.24095   ,  0.53645003,\n",
       "        0.35760999,  0.047395  , -0.93401003, -0.32703999,  0.79417998,\n",
       "        0.84615999,  0.51435   ,  0.40483999,  0.19639   ,  0.13443001,\n",
       "        0.40279001, -0.055496  ,  0.01075   ,  0.3946    ,  0.58175999,\n",
       "        0.36711001, -0.10515   , -0.019983  , -0.22179   , -0.55157   ,\n",
       "       -1.05809999,  0.40838   , -0.44049001,  0.24088   , -0.31195   ,\n",
       "        0.91806   , -0.48390001,  0.73394001,  0.003651  ,  0.38093999,\n",
       "        0.40537   ,  0.16947   ,  0.023389  ,  0.78114003,  0.14647999,\n",
       "       -1.9375    ,  0.24337   ,  0.55162001,  1.01250005,  0.60650998,\n",
       "       -0.38828   ,  1.33179998, -0.35234001, -0.1913    ,  1.41030002,\n",
       "        0.64802998, -0.19678   , -0.16569   ,  0.58803999, -0.25316   ,\n",
       "        0.47589001, -0.27118999,  0.14236   ,  0.46197   , -0.67992997,\n",
       "       -0.73905998,  0.23265   , -0.79162002, -0.3612    ,  0.85039997,\n",
       "       -0.13135   ,  0.82446998, -0.85927999,  0.29078001, -0.13424   ,\n",
       "        0.27077001,  0.65423   , -0.50590003,  0.25286999,  0.082399  ,\n",
       "        0.36618999,  0.29176   ,  0.96144998,  0.15916   , -0.088952  ,\n",
       "       -0.057676  , -0.73482001, -0.21534   ,  0.078402  , -1.00559998])"
      ]
     },
     "execution_count": 186,
     "metadata": {},
     "output_type": "execute_result"
    }
   ],
   "source": [
    "v1"
   ]
  },
  {
   "cell_type": "markdown",
   "metadata": {},
   "source": [
    "Model Definition"
   ]
  },
  {
   "cell_type": "code",
   "execution_count": 187,
   "metadata": {},
   "outputs": [],
   "source": [
    "from keras.models import Sequential\n",
    "from keras.layers import Embedding, Flatten, Dense, Conv1D, MaxPooling1D, GlobalMaxPooling1D\n",
    "from keras.layers import Dropout"
   ]
  },
  {
   "cell_type": "code",
   "execution_count": 191,
   "metadata": {},
   "outputs": [
    {
     "name": "stdout",
     "output_type": "stream",
     "text": [
      "_________________________________________________________________\n",
      "Layer (type)                 Output Shape              Param #   \n",
      "=================================================================\n",
      "embedding_14 (Embedding)     (None, 100, 100)          1000000   \n",
      "_________________________________________________________________\n",
      "flatten_11 (Flatten)         (None, 10000)             0         \n",
      "_________________________________________________________________\n",
      "dense_27 (Dense)             (None, 32)                320032    \n",
      "_________________________________________________________________\n",
      "dropout_6 (Dropout)          (None, 32)                0         \n",
      "_________________________________________________________________\n",
      "dense_28 (Dense)             (None, 6)                 198       \n",
      "=================================================================\n",
      "Total params: 1,320,230\n",
      "Trainable params: 1,320,230\n",
      "Non-trainable params: 0\n",
      "_________________________________________________________________\n"
     ]
    }
   ],
   "source": [
    "model = Sequential()\n",
    "model.add(Embedding(max_words, embeddings_dim, input_length=maxlen))\n",
    "#model.add(Conv1D(32, 7, activation='relu'))\n",
    "#model.add(MaxPooling1D(5))          \n",
    "#model.add(Conv1D(32, 7, activation='relu'))\n",
    "#model.add(GlobalMaxPooling1D())\n",
    "model.add(Flatten())\n",
    "model.add(Dense(32, activation='relu'))\n",
    "model.add(Dropout(0.5))\n",
    "#model.add(Dense(64, activation='relu'))\n",
    "model.add(Dense(6, activation='sigmoid'))\n",
    "model.summary()"
   ]
  },
  {
   "cell_type": "code",
   "execution_count": 192,
   "metadata": {},
   "outputs": [],
   "source": [
    "model.layers[0].set_weights([embedding_matrix])\n",
    "model.layers[0].trainable= False"
   ]
  },
  {
   "cell_type": "code",
   "execution_count": 193,
   "metadata": {
    "scrolled": false
   },
   "outputs": [
    {
     "name": "stdout",
     "output_type": "stream",
     "text": [
      "Train on 54518 samples, validate on 23366 samples\n",
      "Epoch 1/100\n",
      "54518/54518 [==============================] - 4s 70us/step - loss: 0.4673 - acc: 0.8257 - val_loss: 0.4143 - val_acc: 0.8338\n",
      "Epoch 2/100\n",
      "54518/54518 [==============================] - 3s 54us/step - loss: 0.4181 - acc: 0.8377 - val_loss: 0.4046 - val_acc: 0.8340\n",
      "Epoch 3/100\n",
      "54518/54518 [==============================] - 3s 54us/step - loss: 0.4058 - acc: 0.8395 - val_loss: 0.3906 - val_acc: 0.8393\n",
      "Epoch 4/100\n",
      "54518/54518 [==============================] - 3s 55us/step - loss: 0.4014 - acc: 0.8415 - val_loss: 0.3951 - val_acc: 0.8373\n",
      "Epoch 5/100\n",
      "54518/54518 [==============================] - 3s 54us/step - loss: 0.3977 - acc: 0.8429 - val_loss: 0.3865 - val_acc: 0.8406\n",
      "Epoch 6/100\n",
      "54518/54518 [==============================] - 3s 54us/step - loss: 0.3949 - acc: 0.8446 - val_loss: 0.3884 - val_acc: 0.8417\n",
      "Epoch 7/100\n",
      "54518/54518 [==============================] - 3s 55us/step - loss: 0.3924 - acc: 0.8460 - val_loss: 0.3902 - val_acc: 0.8418\n",
      "Epoch 8/100\n",
      "54518/54518 [==============================] - 3s 54us/step - loss: 0.3902 - acc: 0.8468 - val_loss: 0.3866 - val_acc: 0.8415\n",
      "Epoch 9/100\n",
      "54518/54518 [==============================] - 3s 54us/step - loss: 0.3885 - acc: 0.8472 - val_loss: 0.3787 - val_acc: 0.8432\n",
      "Epoch 10/100\n",
      "54518/54518 [==============================] - 3s 54us/step - loss: 0.3809 - acc: 0.8496 - val_loss: 0.3757 - val_acc: 0.8440\n",
      "Epoch 11/100\n",
      "54518/54518 [==============================] - 3s 54us/step - loss: 0.3771 - acc: 0.8506 - val_loss: 0.3732 - val_acc: 0.8444\n",
      "Epoch 12/100\n",
      "54518/54518 [==============================] - 3s 55us/step - loss: 0.3750 - acc: 0.8515 - val_loss: 0.3784 - val_acc: 0.8436\n",
      "Epoch 13/100\n",
      "54518/54518 [==============================] - 3s 54us/step - loss: 0.3738 - acc: 0.8522 - val_loss: 0.3738 - val_acc: 0.8453\n",
      "Epoch 14/100\n",
      "54518/54518 [==============================] - 3s 54us/step - loss: 0.3707 - acc: 0.8531 - val_loss: 0.3745 - val_acc: 0.8452\n",
      "Epoch 15/100\n",
      "54518/54518 [==============================] - 3s 54us/step - loss: 0.3703 - acc: 0.8535 - val_loss: 0.3774 - val_acc: 0.8441\n",
      "Epoch 16/100\n",
      "54518/54518 [==============================] - 3s 54us/step - loss: 0.3675 - acc: 0.8541 - val_loss: 0.3778 - val_acc: 0.8451\n",
      "Epoch 17/100\n",
      "54518/54518 [==============================] - 3s 54us/step - loss: 0.3673 - acc: 0.8540 - val_loss: 0.3769 - val_acc: 0.8453\n",
      "Epoch 18/100\n",
      "54518/54518 [==============================] - 3s 54us/step - loss: 0.3659 - acc: 0.8549 - val_loss: 0.3783 - val_acc: 0.8465\n",
      "Epoch 19/100\n",
      "54518/54518 [==============================] - 3s 54us/step - loss: 0.3645 - acc: 0.8557 - val_loss: 0.3791 - val_acc: 0.8448\n",
      "Epoch 20/100\n",
      "54518/54518 [==============================] - 3s 54us/step - loss: 0.3632 - acc: 0.8559 - val_loss: 0.3781 - val_acc: 0.8459\n",
      "Epoch 21/100\n",
      "54518/54518 [==============================] - 3s 55us/step - loss: 0.3632 - acc: 0.8559 - val_loss: 0.3791 - val_acc: 0.8465\n",
      "Epoch 22/100\n",
      "54518/54518 [==============================] - 3s 55us/step - loss: 0.3624 - acc: 0.8561 - val_loss: 0.3802 - val_acc: 0.8462\n",
      "Epoch 23/100\n",
      "54518/54518 [==============================] - 3s 54us/step - loss: 0.3611 - acc: 0.8568 - val_loss: 0.3843 - val_acc: 0.8465\n",
      "Epoch 24/100\n",
      "54518/54518 [==============================] - 3s 54us/step - loss: 0.3598 - acc: 0.8572 - val_loss: 0.3838 - val_acc: 0.8463\n",
      "Epoch 25/100\n",
      "54518/54518 [==============================] - 3s 56us/step - loss: 0.3593 - acc: 0.8578 - val_loss: 0.3918 - val_acc: 0.8459\n",
      "Epoch 26/100\n",
      "54518/54518 [==============================] - 3s 55us/step - loss: 0.3583 - acc: 0.8579 - val_loss: 0.3894 - val_acc: 0.8465\n",
      "Epoch 27/100\n",
      "54518/54518 [==============================] - 3s 55us/step - loss: 0.3575 - acc: 0.8584 - val_loss: 0.3928 - val_acc: 0.8461\n",
      "Epoch 28/100\n",
      "54518/54518 [==============================] - 3s 55us/step - loss: 0.3561 - acc: 0.8586 - val_loss: 0.3979 - val_acc: 0.8460\n",
      "Epoch 29/100\n",
      "54518/54518 [==============================] - 3s 55us/step - loss: 0.3566 - acc: 0.8586 - val_loss: 0.3986 - val_acc: 0.8461\n",
      "Epoch 30/100\n",
      "54518/54518 [==============================] - 3s 55us/step - loss: 0.3562 - acc: 0.8586 - val_loss: 0.3949 - val_acc: 0.8450\n",
      "Epoch 31/100\n",
      "54518/54518 [==============================] - 3s 54us/step - loss: 0.3550 - acc: 0.8590 - val_loss: 0.4010 - val_acc: 0.8463\n",
      "Epoch 32/100\n",
      "54518/54518 [==============================] - 3s 55us/step - loss: 0.3552 - acc: 0.8593 - val_loss: 0.3964 - val_acc: 0.8453\n",
      "Epoch 33/100\n",
      "54518/54518 [==============================] - 3s 55us/step - loss: 0.3544 - acc: 0.8593 - val_loss: 0.4069 - val_acc: 0.8457\n",
      "Epoch 34/100\n",
      "54518/54518 [==============================] - 3s 54us/step - loss: 0.3542 - acc: 0.8593 - val_loss: 0.4081 - val_acc: 0.8461\n",
      "Epoch 35/100\n",
      "54518/54518 [==============================] - 3s 55us/step - loss: 0.3522 - acc: 0.8600 - val_loss: 0.4111 - val_acc: 0.8460\n",
      "Epoch 36/100\n",
      "17312/54518 [========>.....................] - ETA: 1s - loss: 0.3513 - acc: 0.8602"
     ]
    },
    {
     "ename": "KeyboardInterrupt",
     "evalue": "",
     "output_type": "error",
     "traceback": [
      "\u001b[0;31m---------------------------------------------------------------------------\u001b[0m",
      "\u001b[0;31mKeyboardInterrupt\u001b[0m                         Traceback (most recent call last)",
      "\u001b[0;32m<ipython-input-193-e47c3cb76fed>\u001b[0m in \u001b[0;36m<module>\u001b[0;34m\u001b[0m\n\u001b[1;32m      4\u001b[0m                    \u001b[0mepochs\u001b[0m\u001b[0;34m=\u001b[0m\u001b[0;36m100\u001b[0m\u001b[0;34m,\u001b[0m\u001b[0;34m\u001b[0m\u001b[0m\n\u001b[1;32m      5\u001b[0m                    \u001b[0mbatch_size\u001b[0m\u001b[0;34m=\u001b[0m\u001b[0;36m32\u001b[0m\u001b[0;34m,\u001b[0m\u001b[0;34m\u001b[0m\u001b[0m\n\u001b[0;32m----> 6\u001b[0;31m                    validation_split=0.3)\n\u001b[0m\u001b[1;32m      7\u001b[0m \u001b[0mmodel\u001b[0m\u001b[0;34m.\u001b[0m\u001b[0msave_weights\u001b[0m\u001b[0;34m(\u001b[0m\u001b[0;34m'pre_trained_glove_model_2.h5'\u001b[0m\u001b[0;34m)\u001b[0m\u001b[0;34m\u001b[0m\u001b[0m\n",
      "\u001b[0;32m~/anaconda3/envs/tf-gpu-2/lib/python3.6/site-packages/keras/engine/training.py\u001b[0m in \u001b[0;36mfit\u001b[0;34m(self, x, y, batch_size, epochs, verbose, callbacks, validation_split, validation_data, shuffle, class_weight, sample_weight, initial_epoch, steps_per_epoch, validation_steps, **kwargs)\u001b[0m\n\u001b[1;32m   1037\u001b[0m                                         \u001b[0minitial_epoch\u001b[0m\u001b[0;34m=\u001b[0m\u001b[0minitial_epoch\u001b[0m\u001b[0;34m,\u001b[0m\u001b[0;34m\u001b[0m\u001b[0m\n\u001b[1;32m   1038\u001b[0m                                         \u001b[0msteps_per_epoch\u001b[0m\u001b[0;34m=\u001b[0m\u001b[0msteps_per_epoch\u001b[0m\u001b[0;34m,\u001b[0m\u001b[0;34m\u001b[0m\u001b[0m\n\u001b[0;32m-> 1039\u001b[0;31m                                         validation_steps=validation_steps)\n\u001b[0m\u001b[1;32m   1040\u001b[0m \u001b[0;34m\u001b[0m\u001b[0m\n\u001b[1;32m   1041\u001b[0m     def evaluate(self, x=None, y=None,\n",
      "\u001b[0;32m~/anaconda3/envs/tf-gpu-2/lib/python3.6/site-packages/keras/engine/training_arrays.py\u001b[0m in \u001b[0;36mfit_loop\u001b[0;34m(model, f, ins, out_labels, batch_size, epochs, verbose, callbacks, val_f, val_ins, shuffle, callback_metrics, initial_epoch, steps_per_epoch, validation_steps)\u001b[0m\n\u001b[1;32m    197\u001b[0m                     \u001b[0mins_batch\u001b[0m\u001b[0;34m[\u001b[0m\u001b[0mi\u001b[0m\u001b[0;34m]\u001b[0m \u001b[0;34m=\u001b[0m \u001b[0mins_batch\u001b[0m\u001b[0;34m[\u001b[0m\u001b[0mi\u001b[0m\u001b[0;34m]\u001b[0m\u001b[0;34m.\u001b[0m\u001b[0mtoarray\u001b[0m\u001b[0;34m(\u001b[0m\u001b[0;34m)\u001b[0m\u001b[0;34m\u001b[0m\u001b[0m\n\u001b[1;32m    198\u001b[0m \u001b[0;34m\u001b[0m\u001b[0m\n\u001b[0;32m--> 199\u001b[0;31m                 \u001b[0mouts\u001b[0m \u001b[0;34m=\u001b[0m \u001b[0mf\u001b[0m\u001b[0;34m(\u001b[0m\u001b[0mins_batch\u001b[0m\u001b[0;34m)\u001b[0m\u001b[0;34m\u001b[0m\u001b[0m\n\u001b[0m\u001b[1;32m    200\u001b[0m                 \u001b[0mouts\u001b[0m \u001b[0;34m=\u001b[0m \u001b[0mto_list\u001b[0m\u001b[0;34m(\u001b[0m\u001b[0mouts\u001b[0m\u001b[0;34m)\u001b[0m\u001b[0;34m\u001b[0m\u001b[0m\n\u001b[1;32m    201\u001b[0m                 \u001b[0;32mfor\u001b[0m \u001b[0ml\u001b[0m\u001b[0;34m,\u001b[0m \u001b[0mo\u001b[0m \u001b[0;32min\u001b[0m \u001b[0mzip\u001b[0m\u001b[0;34m(\u001b[0m\u001b[0mout_labels\u001b[0m\u001b[0;34m,\u001b[0m \u001b[0mouts\u001b[0m\u001b[0;34m)\u001b[0m\u001b[0;34m:\u001b[0m\u001b[0;34m\u001b[0m\u001b[0m\n",
      "\u001b[0;32m~/anaconda3/envs/tf-gpu-2/lib/python3.6/site-packages/keras/backend/tensorflow_backend.py\u001b[0m in \u001b[0;36m__call__\u001b[0;34m(self, inputs)\u001b[0m\n\u001b[1;32m   2713\u001b[0m                 \u001b[0;32mreturn\u001b[0m \u001b[0mself\u001b[0m\u001b[0;34m.\u001b[0m\u001b[0m_legacy_call\u001b[0m\u001b[0;34m(\u001b[0m\u001b[0minputs\u001b[0m\u001b[0;34m)\u001b[0m\u001b[0;34m\u001b[0m\u001b[0m\n\u001b[1;32m   2714\u001b[0m \u001b[0;34m\u001b[0m\u001b[0m\n\u001b[0;32m-> 2715\u001b[0;31m             \u001b[0;32mreturn\u001b[0m \u001b[0mself\u001b[0m\u001b[0;34m.\u001b[0m\u001b[0m_call\u001b[0m\u001b[0;34m(\u001b[0m\u001b[0minputs\u001b[0m\u001b[0;34m)\u001b[0m\u001b[0;34m\u001b[0m\u001b[0m\n\u001b[0m\u001b[1;32m   2716\u001b[0m         \u001b[0;32melse\u001b[0m\u001b[0;34m:\u001b[0m\u001b[0;34m\u001b[0m\u001b[0m\n\u001b[1;32m   2717\u001b[0m             \u001b[0;32mif\u001b[0m \u001b[0mpy_any\u001b[0m\u001b[0;34m(\u001b[0m\u001b[0mis_tensor\u001b[0m\u001b[0;34m(\u001b[0m\u001b[0mx\u001b[0m\u001b[0;34m)\u001b[0m \u001b[0;32mfor\u001b[0m \u001b[0mx\u001b[0m \u001b[0;32min\u001b[0m \u001b[0minputs\u001b[0m\u001b[0;34m)\u001b[0m\u001b[0;34m:\u001b[0m\u001b[0;34m\u001b[0m\u001b[0m\n",
      "\u001b[0;32m~/anaconda3/envs/tf-gpu-2/lib/python3.6/site-packages/keras/backend/tensorflow_backend.py\u001b[0m in \u001b[0;36m_call\u001b[0;34m(self, inputs)\u001b[0m\n\u001b[1;32m   2673\u001b[0m             \u001b[0mfetched\u001b[0m \u001b[0;34m=\u001b[0m \u001b[0mself\u001b[0m\u001b[0;34m.\u001b[0m\u001b[0m_callable_fn\u001b[0m\u001b[0;34m(\u001b[0m\u001b[0;34m*\u001b[0m\u001b[0marray_vals\u001b[0m\u001b[0;34m,\u001b[0m \u001b[0mrun_metadata\u001b[0m\u001b[0;34m=\u001b[0m\u001b[0mself\u001b[0m\u001b[0;34m.\u001b[0m\u001b[0mrun_metadata\u001b[0m\u001b[0;34m)\u001b[0m\u001b[0;34m\u001b[0m\u001b[0m\n\u001b[1;32m   2674\u001b[0m         \u001b[0;32melse\u001b[0m\u001b[0;34m:\u001b[0m\u001b[0;34m\u001b[0m\u001b[0m\n\u001b[0;32m-> 2675\u001b[0;31m             \u001b[0mfetched\u001b[0m \u001b[0;34m=\u001b[0m \u001b[0mself\u001b[0m\u001b[0;34m.\u001b[0m\u001b[0m_callable_fn\u001b[0m\u001b[0;34m(\u001b[0m\u001b[0;34m*\u001b[0m\u001b[0marray_vals\u001b[0m\u001b[0;34m)\u001b[0m\u001b[0;34m\u001b[0m\u001b[0m\n\u001b[0m\u001b[1;32m   2676\u001b[0m         \u001b[0;32mreturn\u001b[0m \u001b[0mfetched\u001b[0m\u001b[0;34m[\u001b[0m\u001b[0;34m:\u001b[0m\u001b[0mlen\u001b[0m\u001b[0;34m(\u001b[0m\u001b[0mself\u001b[0m\u001b[0;34m.\u001b[0m\u001b[0moutputs\u001b[0m\u001b[0;34m)\u001b[0m\u001b[0;34m]\u001b[0m\u001b[0;34m\u001b[0m\u001b[0m\n\u001b[1;32m   2677\u001b[0m \u001b[0;34m\u001b[0m\u001b[0m\n",
      "\u001b[0;32m~/anaconda3/envs/tf-gpu-2/lib/python3.6/site-packages/tensorflow/python/client/session.py\u001b[0m in \u001b[0;36m__call__\u001b[0;34m(self, *args, **kwargs)\u001b[0m\n\u001b[1;32m   1397\u001b[0m           ret = tf_session.TF_SessionRunCallable(\n\u001b[1;32m   1398\u001b[0m               \u001b[0mself\u001b[0m\u001b[0;34m.\u001b[0m\u001b[0m_session\u001b[0m\u001b[0;34m.\u001b[0m\u001b[0m_session\u001b[0m\u001b[0;34m,\u001b[0m \u001b[0mself\u001b[0m\u001b[0;34m.\u001b[0m\u001b[0m_handle\u001b[0m\u001b[0;34m,\u001b[0m \u001b[0margs\u001b[0m\u001b[0;34m,\u001b[0m \u001b[0mstatus\u001b[0m\u001b[0;34m,\u001b[0m\u001b[0;34m\u001b[0m\u001b[0m\n\u001b[0;32m-> 1399\u001b[0;31m               run_metadata_ptr)\n\u001b[0m\u001b[1;32m   1400\u001b[0m         \u001b[0;32mif\u001b[0m \u001b[0mrun_metadata\u001b[0m\u001b[0;34m:\u001b[0m\u001b[0;34m\u001b[0m\u001b[0m\n\u001b[1;32m   1401\u001b[0m           \u001b[0mproto_data\u001b[0m \u001b[0;34m=\u001b[0m \u001b[0mtf_session\u001b[0m\u001b[0;34m.\u001b[0m\u001b[0mTF_GetBuffer\u001b[0m\u001b[0;34m(\u001b[0m\u001b[0mrun_metadata_ptr\u001b[0m\u001b[0;34m)\u001b[0m\u001b[0;34m\u001b[0m\u001b[0m\n",
      "\u001b[0;31mKeyboardInterrupt\u001b[0m: "
     ]
    }
   ],
   "source": [
    "#model.compile(optimizer='rmsprop', loss='categorical_crossentropy', metrics=['acc'])\n",
    "model.compile(optimizer='adam', loss='binary_crossentropy', metrics=['acc'])\n",
    "history = model.fit(x_train, y_train_one_hot,\n",
    "                   epochs=100,\n",
    "                   batch_size=32,\n",
    "                   validation_split=0.3)\n",
    "model.save_weights('pre_trained_glove_model_2.h5')"
   ]
  },
  {
   "cell_type": "code",
   "execution_count": 194,
   "metadata": {},
   "outputs": [
    {
     "name": "stdout",
     "output_type": "stream",
     "text": [
      "ruled\n",
      "out\n",
      "for\n",
      "any\n",
      "of\n",
      "the\n",
      "two\n",
      "supernovae\n",
      "but\n",
      "the\n",
      "expected\n",
      "short\n",
      "delay\n",
      "time\n",
      "for\n",
      "such\n",
      "progenitors\n",
      "makes\n",
      "this\n",
      "possibility\n",
      "less\n",
      "likely\n",
      "especially\n",
      "for\n",
      "sn\n",
      "2011fe\n",
      "the\n",
      "broad\n",
      "ni\n",
      "ii\n",
      "emission\n",
      "in\n",
      "sn\n",
      "2014j\n",
      "is\n",
      "redshifted\n",
      "by\n",
      "about\n",
      "1300\n",
      "km\n",
      "s\n",
      "as\n",
      "opposed\n",
      "to\n",
      "the\n",
      "known\n",
      "blueshift\n",
      "of\n",
      "roughly\n",
      "1100\n",
      "km\n",
      "s\n",
      "for\n",
      "sn\n",
      "2011fe\n",
      "fe\n",
      "ii\n",
      "is\n",
      "also\n",
      "redshifted\n",
      "in\n",
      "sn\n",
      "2014j\n",
      "sn\n",
      "2014j\n",
      "belongs\n",
      "to\n",
      "a\n",
      "minority\n",
      "of\n",
      "sne\n",
      "ia\n",
      "that\n",
      "both\n",
      "have\n",
      "a\n",
      "nebular\n",
      "redshift\n",
      "of\n",
      "fe\n",
      "ii\n",
      "and\n",
      "ni\n",
      "ii\n",
      "and\n",
      "a\n",
      "slow\n",
      "decline\n",
      "of\n",
      "the\n",
      "si\n",
      "ii\n",
      "6355\n",
      "absorption\n",
      "trough\n",
      "just\n",
      "after\n",
      "b\n",
      "band\n",
      "maximum\n"
     ]
    }
   ],
   "source": [
    "jj = 4000\n",
    "for d in data[jj]:\n",
    "    print(word_index_reverse[d])"
   ]
  },
  {
   "cell_type": "code",
   "execution_count": null,
   "metadata": {},
   "outputs": [],
   "source": []
  },
  {
   "cell_type": "code",
   "execution_count": 206,
   "metadata": {},
   "outputs": [
    {
     "name": "stdout",
     "output_type": "stream",
     "text": [
      "['astro-ph.GA', 'astro-ph.SR', 'astro-ph.IM', 'astro-ph.EP', 'astro-ph.HE', 'astro-ph.CO']\n",
      "[0.29514158 0.12467489 0.00207775 0.00502562 0.06630904 0.2511932 ]\n",
      "astro-ph.GA\n",
      "[0.18108776 0.30605522 0.06097155 0.1298188  0.16108291 0.19530368]\n",
      "astro-ph.SR\n",
      "[0.3279025  0.09801427 0.00091291 0.00224069 0.05300305 0.26604697]\n",
      "astro-ph.GA\n",
      "[0.00358764 0.02029986 0.5572556  0.013916   0.05344372 0.1101054 ]\n",
      "astro-ph.IM\n",
      "[0.18108776 0.30605522 0.06097155 0.1298188  0.16108291 0.19530368]\n",
      "astro-ph.SR\n",
      "[0.18108776 0.30605522 0.06097155 0.1298188  0.16108291 0.19530368]\n",
      "astro-ph.SR\n",
      "[0.07857082 0.17046444 0.03429257 0.01012883 0.40788978 0.12181871]\n",
      "astro-ph.HE\n",
      "[1.1520218e-02 2.7161865e-03 1.4311771e-03 7.2122035e-05 2.4614552e-02\n",
      " 9.5469350e-01]\n",
      "astro-ph.CO\n"
     ]
    }
   ],
   "source": [
    "texts = [\"In this paper, we analyze a suite of isolated galaxy simulations. We find that spiral density wave theory are correct. In particular, it correctly predict the growth of two-armed spiral structure. The star formation are triggered by the spiral waves. The pattern speed is consistent with the observation of corotation in the galaxy sample.\",\n",
    "        \"We discovered a new forming planet. This planet has ten Jupiter-mass and is embedded in a protoplanetary disks.\",\n",
    "         \"We show that the mass fraction of GMC gas (n>100 cm^-3) in dense (n>>10^4 cm^-3) star-forming clumps, observable in dense molecular tracers (L_HCN/L_CO(1-0)), is a sensitive probe of the strength and mechanism(s) of stellar feedback. Using high-resolution galaxy-scale simulations with pc-scale resolution and explicit models for feedback from radiation pressure, photoionization heating, stellar winds, and supernovae (SNe), we make\",\n",
    "         \"We have built a new telescope.\",\n",
    "         \"We have observed a new sun spot.\",\n",
    "         \"We found that Pluto is indeed a Planet.\",\n",
    "         \"We found a new neutron star.\",\n",
    "         \"We discovered the B-modes in the cosmological microwave background, which are the imprints of the primodal density fluctuation. This has a great impact on the understanding of cosmology and inflation.\"\n",
    "        ]\n",
    "seq = tokenizer.texts_to_sequences(texts)\n",
    "seq = pad_sequences(seq, maxlen=maxlen)\n",
    "proba = model.predict_proba(seq)\n",
    "print(target_name)\n",
    "for p in proba:\n",
    "    print(p)\n",
    "    print(target_name[np.argmax(p)])"
   ]
  },
  {
   "cell_type": "code",
   "execution_count": 208,
   "metadata": {},
   "outputs": [
    {
     "name": "stdout",
     "output_type": "stream",
     "text": [
      "19471/19471 [==============================] - 1s 39us/step\n",
      "[0.40378590248887514, 0.8457106995225032]\n"
     ]
    }
   ],
   "source": [
    "ev = model.evaluate(x_test, y_test_one_hot)\n",
    "print(ev)"
   ]
  },
  {
   "cell_type": "code",
   "execution_count": 210,
   "metadata": {
    "scrolled": true
   },
   "outputs": [
    {
     "data": {
      "text/plain": [
       "['loss', 'acc']"
      ]
     },
     "execution_count": 210,
     "metadata": {},
     "output_type": "execute_result"
    }
   ],
   "source": [
    "model.metrics_names"
   ]
  },
  {
   "cell_type": "code",
   "execution_count": 134,
   "metadata": {},
   "outputs": [
    {
     "data": {
      "text/plain": [
       "array([[   0,    0,    0,    0,    0,    0,    0,    0,    0,    0,    0,\n",
       "           0,    0,    0,    0,    0,    0,    0,    0,    0,    0,    0,\n",
       "           0,    0,    0,    0,    0,    0,    0,    0,    0,    0,    0,\n",
       "           0,    0,    0,    0,    0,    0,    0,    0,    0,    0,    0,\n",
       "           0,    0,    0,    0,    0,    0,    0,    0,    0,    0,    0,\n",
       "           0,    0,    0,    0,    0,    0,    0,    0,    0,    0,    0,\n",
       "           0,    0,    0,    0,    0,    0,    0,    0,    0,    0,    0,\n",
       "           0,    0,    0,    0,    0,    0,    0,    0,    0,    0,    0,\n",
       "           0,    0,    7,   31,  843,    4,   75,  272,    5,    4, 3275,\n",
       "         111]], dtype=int32)"
      ]
     },
     "execution_count": 134,
     "metadata": {},
     "output_type": "execute_result"
    }
   ],
   "source": [
    "seq"
   ]
  },
  {
   "cell_type": "code",
   "execution_count": 138,
   "metadata": {},
   "outputs": [
    {
     "name": "stdout",
     "output_type": "stream",
     "text": [
      "0\n",
      "astro-ph.GA\n"
     ]
    }
   ],
   "source": []
  },
  {
   "cell_type": "code",
   "execution_count": 31,
   "metadata": {},
   "outputs": [
    {
     "data": {
      "text/plain": [
       "'astro-ph.HE'"
      ]
     },
     "execution_count": 31,
     "metadata": {},
     "output_type": "execute_result"
    }
   ],
   "source": [
    "target_name[labels[jj]]"
   ]
  },
  {
   "cell_type": "code",
   "execution_count": 32,
   "metadata": {},
   "outputs": [
    {
     "data": {
      "text/plain": [
       "['astro-ph.GA',\n",
       " 'astro-ph.SR',\n",
       " 'astro-ph.IM',\n",
       " 'astro-ph.EP',\n",
       " 'astro-ph.HE',\n",
       " 'astro-ph.CO']"
      ]
     },
     "execution_count": 32,
     "metadata": {},
     "output_type": "execute_result"
    }
   ],
   "source": [
    "target_name"
   ]
  },
  {
   "cell_type": "code",
   "execution_count": 33,
   "metadata": {},
   "outputs": [
    {
     "data": {
      "text/plain": [
       "(15842, 100)"
      ]
     },
     "execution_count": 33,
     "metadata": {},
     "output_type": "execute_result"
    }
   ],
   "source": [
    "data.shape"
   ]
  },
  {
   "cell_type": "code",
   "execution_count": 34,
   "metadata": {},
   "outputs": [
    {
     "data": {
      "text/plain": [
       "(15842,)"
      ]
     },
     "execution_count": 34,
     "metadata": {},
     "output_type": "execute_result"
    }
   ],
   "source": [
    "labels.shape"
   ]
  },
  {
   "cell_type": "code",
   "execution_count": 35,
   "metadata": {},
   "outputs": [
    {
     "name": "stdout",
     "output_type": "stream",
     "text": [
      "\r",
      "1/1 [==============================] - 0s 3ms/step\n"
     ]
    },
    {
     "data": {
      "text/plain": [
       "[5.27219295501709, 0.0]"
      ]
     },
     "execution_count": 35,
     "metadata": {},
     "output_type": "execute_result"
    }
   ],
   "source": [
    "model.evaluate(np.array([x_val[1000]]), np.array([y_val_one_hot[1000]]))"
   ]
  },
  {
   "cell_type": "code",
   "execution_count": 116,
   "metadata": {},
   "outputs": [
    {
     "data": {
      "text/plain": [
       "dict_keys(['val_loss', 'val_acc', 'loss', 'acc'])"
      ]
     },
     "execution_count": 116,
     "metadata": {},
     "output_type": "execute_result"
    }
   ],
   "source": [
    "history.history.keys()"
   ]
  },
  {
   "cell_type": "code",
   "execution_count": 119,
   "metadata": {},
   "outputs": [
    {
     "data": {
      "text/plain": [
       "[<matplotlib.lines.Line2D at 0x7fe0e97229b0>]"
      ]
     },
     "execution_count": 119,
     "metadata": {},
     "output_type": "execute_result"
    },
    {
     "data": {
      "image/png": "[encoded data removed]",
      "text/plain": [
       "<Figure size 432x288 with 1 Axes>"
      ]
     },
     "metadata": {
      "needs_background": "light"
     },
     "output_type": "display_data"
    }
   ],
   "source": [
    "import matplotlib.pyplot as plt\n",
    "fig, ax = plt.subplots()\n",
    "ax.plot(history.epoch, history.history['loss'])\n",
    "ax.plot(history.epoch, history.history['val_loss'])"
   ]
  },
  {
   "cell_type": "code",
   "execution_count": null,
   "metadata": {},
   "outputs": [],
   "source": []
  }
 ],
 "metadata": {
  "kernelspec": {
   "display_name": "tf-gpu-2",
   "language": "python",
   "name": "tf-gpu-2"
  },
  "language_info": {
   "codemirror_mode": {
    "name": "ipython",
    "version": 3
   },
   "file_extension": ".py",
   "mimetype": "text/x-python",
   "name": "python",
   "nbconvert_exporter": "python",
   "pygments_lexer": "ipython3",
   "version": "3.6.6"
  }
 },
 "nbformat": 4,
 "nbformat_minor": 2
}
