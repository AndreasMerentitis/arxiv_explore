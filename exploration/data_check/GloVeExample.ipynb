{
 "cells": [
  {
   "cell_type": "code",
   "execution_count": 5,
   "metadata": {},
   "outputs": [],
   "source": [
    "import numpy as np"
   ]
  },
  {
   "cell_type": "code",
   "execution_count": 6,
   "metadata": {},
   "outputs": [
    {
     "name": "stdout",
     "output_type": "stream",
     "text": [
      "Found 400000 word vectors.\n"
     ]
    }
   ],
   "source": [
    "import os\n",
    "glove_dir = \"../glove.6B/\"\n",
    "\n",
    "embeddings_index = {}\n",
    "f = open(os.path.join(glove_dir, 'glove.6B.100d.txt'))\n",
    "for line in f:\n",
    "    values = line.split()\n",
    "    word = values[0]\n",
    "    coefs = np.asarray(values[1:], dtype='float32')\n",
    "    embeddings_index[word] = coefs\n",
    "f.close()\n",
    "print(\"Found %s word vectors.\" % len(embeddings_index))"
   ]
  },
  {
   "cell_type": "code",
   "execution_count": 8,
   "metadata": {},
   "outputs": [],
   "source": [
    "test_texts = [\"planet\", \"moon\", \"inflation\"]\n",
    "embeddings_vectors = [embeddings_index.get(w) for w in test_texts]"
   ]
  },
  {
   "cell_type": "code",
   "execution_count": 10,
   "metadata": {},
   "outputs": [],
   "source": [
    "v1, v2, v3 = embeddings_vectors"
   ]
  },
  {
   "cell_type": "code",
   "execution_count": 18,
   "metadata": {},
   "outputs": [],
   "source": [
    "def compare_words(w1, w2):\n",
    "    v1 = embeddings_index.get(w1)\n",
    "    v2 = embeddings_index.get(w2)\n",
    "    if v1 is not None and v2 is not None:\n",
    "        distance = np.sqrt(np.sum(v1-v2))\n",
    "        print(\"embedding distance between %s and %s is %f\" % (w1, w2, distance))\n",
    "    else:\n",
    "        if v1 is None:\n",
    "            print(\"%s does not exist in the embeddings.\" % w1)\n",
    "        if v2 is None:\n",
    "            print(\"%s does not exist in the embeddings.\" % w2)"
   ]
  },
  {
   "cell_type": "code",
   "execution_count": 21,
   "metadata": {},
   "outputs": [
    {
     "name": "stdout",
     "output_type": "stream",
     "text": [
      "embedding distance between planet and moon is 2.600663\n",
      "embedding distance between planet and inflation is 4.695775\n",
      "embedding distance between moon and inflation is 3.909841\n",
      "testt does not exist in the embeddings.\n"
     ]
    }
   ],
   "source": [
    "compare_words(\"planet\", \"moon\")\n",
    "compare_words(\"planet\", \"inflation\")\n",
    "compare_words(\"moon\", \"inflation\")\n",
    "compare_words(\"moon\", \"testt\")"
   ]
  },
  {
   "cell_type": "code",
   "execution_count": 20,
   "metadata": {},
   "outputs": [],
   "source": [
    "a = embeddings_index.get(\"astesets\")"
   ]
  },
  {
   "cell_type": "code",
   "execution_count": 17,
   "metadata": {},
   "outputs": [
    {
     "name": "stdout",
     "output_type": "stream",
     "text": [
      "None\n"
     ]
    }
   ],
   "source": []
  },
  {
   "cell_type": "code",
   "execution_count": null,
   "metadata": {},
   "outputs": [],
   "source": []
  }
 ],
 "metadata": {
  "kernelspec": {
   "display_name": "Python 3",
   "language": "python",
   "name": "python3"
  },
  "language_info": {
   "codemirror_mode": {
    "name": "ipython",
    "version": 3
   },
   "file_extension": ".py",
   "mimetype": "text/x-python",
   "name": "python",
   "nbconvert_exporter": "python",
   "pygments_lexer": "ipython3",
   "version": "3.6.2"
  }
 },
 "nbformat": 4,
 "nbformat_minor": 2
}
