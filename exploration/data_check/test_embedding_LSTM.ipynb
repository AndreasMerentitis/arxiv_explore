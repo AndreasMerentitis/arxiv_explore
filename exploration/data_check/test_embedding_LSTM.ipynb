{
 "cells": [
  {
   "cell_type": "code",
   "execution_count": 1,
   "metadata": {},
   "outputs": [],
   "source": [
    "import numpy as np\n",
    "import pandas as pd\n",
    "\n",
    "target_name_dict = {'astro-ph.GA' : 0,\n",
    "                    'astro-ph.SR' : 1,\n",
    "                    'astro-ph.IM' : 2,\n",
    "                    'astro-ph.EP' : 3,\n",
    "                    'astro-ph.HE' : 4,\n",
    "                    'astro-ph.CO' : 5\n",
    "                }\n",
    "label2target = { v:k for k,v in target_name_dict.items()}"
   ]
  },
  {
   "cell_type": "code",
   "execution_count": 2,
   "metadata": {},
   "outputs": [],
   "source": [
    "df = pd.HDFStore(\"../data/2014astroph_p.h5\", \"r\")\n",
    "df['/df'].keys()\n",
    "abstracts = df['/df']['abstract']\n",
    "labels = np.array(df['/df']['label'])\n",
    "df.close()"
   ]
  },
  {
   "cell_type": "code",
   "execution_count": 3,
   "metadata": {},
   "outputs": [
    {
     "name": "stdout",
     "output_type": "stream",
     "text": [
      "6211 astro-ph.HE\n",
      "Very recently, the IceCube Collaboration reported a flux of neutrinos in the\n",
      "energy range 50 TeV < E_\\nu < 2 PeV, which departs from expectations from\n",
      "atmospheric background at the 5.7\\sigma level. This flux is in remarkable\n",
      "agreement with the expected diffuse flux of neutrinos from starburst galaxies,\n",
      "and the 3 highest energy events have uncertainty contours encompassing some of\n",
      "such systems. These events, all of which have well-measured energies above 1\n",
      "PeV, exhibit shower topologies, for which the angular resolution is about\n",
      "15^\\circ. Due to this angular uncertainty and the a posteriori nature of cuts\n",
      "used in our study it is not possible to assign a robust statistical\n",
      "significance to this association. Using muon tracks, which have angular\n",
      "resolution < 1^\\circ, we compute the number of observations required to make a\n",
      "statistically significant statement, and show that in a few years of operation\n",
      "the upgraded IceCube detector should be able to confirm or refute this\n",
      "hypothesis. We also note that double bang topology rates constitute a possible\n",
      "discriminator among various astrophysical sources.\n"
     ]
    }
   ],
   "source": [
    "j = np.random.randint(len(labels))\n",
    "print(j, label2target[labels[j]])\n",
    "print(abstracts[j])"
   ]
  },
  {
   "cell_type": "code",
   "execution_count": 4,
   "metadata": {},
   "outputs": [
    {
     "name": "stderr",
     "output_type": "stream",
     "text": [
      "Using TensorFlow backend.\n"
     ]
    }
   ],
   "source": [
    "from keras.preprocessing.text import Tokenizer\n",
    "from keras.preprocessing.sequence import pad_sequences"
   ]
  },
  {
   "cell_type": "code",
   "execution_count": 5,
   "metadata": {},
   "outputs": [],
   "source": [
    "# settings\n",
    "maxlen = 150\n",
    "max_words = 10000 # Top 10000 words\n",
    "training_samples = 6000 #"
   ]
  },
  {
   "cell_type": "code",
   "execution_count": 6,
   "metadata": {},
   "outputs": [
    {
     "name": "stdout",
     "output_type": "stream",
     "text": [
      "Found 30677 unique tokens\n"
     ]
    }
   ],
   "source": [
    "tokenizer = Tokenizer(num_words=max_words)\n",
    "tokenizer.fit_on_texts(abstracts)\n",
    "sequences = tokenizer.texts_to_sequences(abstracts)\n",
    "word_index = tokenizer.word_index\n",
    "\n",
    "print(\"Found %s unique tokens\" % len(word_index))\n",
    "\n",
    "word_index_reverse = dict()\n",
    "\n",
    "for k, v in word_index.items():\n",
    "    word_index_reverse[v] = k"
   ]
  },
  {
   "cell_type": "code",
   "execution_count": 7,
   "metadata": {},
   "outputs": [],
   "source": [
    "data = pad_sequences(sequences=sequences, maxlen=maxlen)\n",
    "indices = np.arange(abstracts.shape[0])\n",
    "\n",
    "np.random.seed(1234)\n",
    "\n",
    "np.random.shuffle(indices)\n",
    "\n",
    "data = data[indices]\n",
    "\n",
    "labels = labels[indices]\n",
    "\n",
    "x_train = data[:training_samples]\n",
    "y_train = labels[:training_samples]\n",
    "\n",
    "x_test = data[training_samples:]\n",
    "y_test = labels[training_samples:]"
   ]
  },
  {
   "cell_type": "code",
   "execution_count": 8,
   "metadata": {},
   "outputs": [],
   "source": [
    "#https://stackoverflow.com/questions/41971587/how-to-convert-predicted-sequence-back-to-text-in-keras\n",
    "# Creating a reverse dictionary\n",
    "reverse_word_map = dict(map(reversed, tokenizer.word_index.items()))\n",
    "\n",
    "# Function takes a tokenized sentence and returns the words\n",
    "def sequence_to_text(list_of_indices):\n",
    "    # Looking up words in dictionary\n",
    "    words = [reverse_word_map.get(letter) for letter in list_of_indices]\n",
    "    return(words)\n",
    "\n",
    "# Creating texts \n",
    "my_texts = list(map(sequence_to_text, data))\n",
    "\n",
    "# alternative way\n",
    "my_texts_2 = tokenizer.sequences_to_texts(sequences=sequences)"
   ]
  },
  {
   "cell_type": "code",
   "execution_count": 9,
   "metadata": {},
   "outputs": [
    {
     "name": "stdout",
     "output_type": "stream",
     "text": [
      "2788 astro-ph.CO\n",
      "['ia', 'data', 'in', 'recent', 'years', 'we', 'use', 'the', 'union2', '1', 'data', 'to', 'give', 'a', 'simple', 'classification', 'of', 'such', 'studies', 'for', 'the', 'first', 'time', 'because', 'the', 'maximum', 'anisotropic', 'direction', 'is', 'independent', 'of', 'isotropic', 'dark', 'energy', 'models', 'we', 'adopt', 'two', 'cosmological', 'models', 'lambda', 'cdm', 'w', 'cdm', 'for', 'the', 'hemisphere', 'comparison', 'analysis', 'and', 'lambda', 'cdm', 'model', 'for', 'dipole', 'fit', 'approach', 'in', 'hemisphere', 'comparison', 'method', 'the', 'matter', 'density', 'and', 'the', 'equation', 'of', 'state', 'of', 'dark', 'energy', 'are', 'adopted', 'as', 'the', 'diagnostic', 'in', 'the', 'lambda', 'cdm', 'model', 'and', 'w', 'cdm', 'model', 'respectively', 'in', 'dipole', 'fit', 'approach', 'we', 'fit', 'the', 'fluctuation', 'of', 'distance', 'modulus', 'we', 'find', 'that', 'there', 'is', 'a', 'null', 'signal', 'for', 'the', 'hemisphere', 'comparison', 'method', 'while', 'a', 'preferred', 'direction', 'b', '14', '3', 'circ', 'pm', '10', '1', 'circ', 'l', '1', 'circ', 'pm', '16', '2', 'circ', 'for', 'the', 'dipole', 'fit', 'method', 'this', 'result', 'indicates', 'that', 'the', 'dipole', 'fit', 'is', 'more', 'sensitive', 'than', 'the', 'hemisphere', 'comparison', 'method']\n"
     ]
    }
   ],
   "source": [
    "j = np.random.randint(len(x_train))\n",
    "print(j, label2target[y_train[j]])\n",
    "print(my_texts[j])"
   ]
  },
  {
   "cell_type": "code",
   "execution_count": 10,
   "metadata": {},
   "outputs": [],
   "source": [
    "from keras.utils.np_utils import to_categorical\n",
    "y_train_one_hot = to_categorical(y_train)\n",
    "y_test_one_hot = to_categorical(y_test)"
   ]
  },
  {
   "cell_type": "code",
   "execution_count": 11,
   "metadata": {},
   "outputs": [],
   "source": [
    "from keras.models import Sequential\n",
    "import keras.layers as layers"
   ]
  },
  {
   "cell_type": "code",
   "execution_count": 71,
   "metadata": {},
   "outputs": [
    {
     "name": "stdout",
     "output_type": "stream",
     "text": [
      "_________________________________________________________________\n",
      "Layer (type)                 Output Shape              Param #   \n",
      "=================================================================\n",
      "embedding_10 (Embedding)     (None, 150, 100)          1000000   \n",
      "_________________________________________________________________\n",
      "lstm_10 (LSTM)               (None, 64)                42240     \n",
      "_________________________________________________________________\n",
      "dense_9 (Dense)              (None, 6)                 390       \n",
      "=================================================================\n",
      "Total params: 1,042,630\n",
      "Trainable params: 1,042,630\n",
      "Non-trainable params: 0\n",
      "_________________________________________________________________\n"
     ]
    }
   ],
   "source": [
    "model = Sequential()\n",
    "embeddings_dim = 100\n",
    "model.add(layers.Embedding(max_words, embeddings_dim, input_length=maxlen))\n",
    "#model.add(layers.Flatten())\n",
    "#model.add(layers.Dense(64, activation='relu', input_shape=(maxlen,)))\n",
    "model.add(layers.LSTM(64))\n",
    "model.add(layers.Dense(6, activation='softmax'))\n",
    "model.summary()"
   ]
  },
  {
   "cell_type": "code",
   "execution_count": 72,
   "metadata": {},
   "outputs": [],
   "source": [
    "#model.layers[0].set_weights([embedding_matrix])\n",
    "#model.layers[0].trainable= False"
   ]
  },
  {
   "cell_type": "code",
   "execution_count": 73,
   "metadata": {},
   "outputs": [
    {
     "name": "stdout",
     "output_type": "stream",
     "text": [
      "Train on 4200 samples, validate on 1800 samples\n",
      "Epoch 1/5\n",
      "4200/4200 [==============================] - 16s 4ms/step - loss: 1.5595 - acc: 0.3864 - val_loss: 1.4766 - val_acc: 0.4678\n",
      "Epoch 2/5\n",
      "4200/4200 [==============================] - 15s 4ms/step - loss: 1.2644 - acc: 0.5000 - val_loss: 1.3047 - val_acc: 0.4944\n",
      "Epoch 3/5\n",
      "4200/4200 [==============================] - 15s 4ms/step - loss: 1.0332 - acc: 0.5940 - val_loss: 1.1805 - val_acc: 0.5250\n",
      "Epoch 4/5\n",
      "4200/4200 [==============================] - 15s 4ms/step - loss: 0.8085 - acc: 0.7060 - val_loss: 1.9787 - val_acc: 0.5111\n",
      "Epoch 5/5\n",
      "4200/4200 [==============================] - 15s 4ms/step - loss: 0.6150 - acc: 0.8005 - val_loss: 1.0763 - val_acc: 0.6339\n"
     ]
    }
   ],
   "source": [
    "model.compile(optimizer='rmsprop', loss='categorical_crossentropy', metrics=['acc'])\n",
    "history = model.fit(x_train, y_train_one_hot,\n",
    "                   epochs=5,\n",
    "                   batch_size=32,\n",
    "                   validation_split=0.3)\n",
    "#model.save_weights('pre_trained_glove_model_2.h5')"
   ]
  },
  {
   "cell_type": "code",
   "execution_count": 74,
   "metadata": {},
   "outputs": [
    {
     "name": "stdout",
     "output_type": "stream",
     "text": [
      "2794/2794 [==============================] - 3s 1ms/step\n"
     ]
    }
   ],
   "source": [
    "results = model.evaluate(x_test, y_test_one_hot)\n",
    "class_prediction = model.predict_classes(x_test)"
   ]
  },
  {
   "cell_type": "code",
   "execution_count": 75,
   "metadata": {},
   "outputs": [
    {
     "data": {
      "text/plain": [
       "[1.0936648792766552, 0.6270579813460239]"
      ]
     },
     "execution_count": 75,
     "metadata": {},
     "output_type": "execute_result"
    }
   ],
   "source": [
    "results"
   ]
  },
  {
   "cell_type": "code",
   "execution_count": 76,
   "metadata": {},
   "outputs": [
    {
     "name": "stdout",
     "output_type": "stream",
     "text": [
      "[   0    0    0    0    0    0    0    0    0    0    1 2582 1408    8\n",
      "  674    6    4  793 2192 2405 2670  124   64  554   13   47   34  142\n",
      "   16    8  138    6    1  302    2    4  149 5131  184   32   84   10\n",
      "   47   34    3 1929  716    5   16  561    4 2455 2686  368 4730    1\n",
      " 1925    2 2582    1  582 2686 2203 8308   84   10 1929    3   78 1929\n",
      "  186   12  256  315    9  240  144   13   40    1 2582   47   34   26\n",
      "    9    1  295  804 1139   18    1  229 2063 1001    5    1 1929  205\n",
      "   73    2    1   52  144 2582 8308    8 2949   15    1 1181 5022 7485\n",
      "   84   10    1 2686 2582 1229    3    1 2582 1929   26   35    8   45\n",
      " 1917  844   16 2686 1229  513    4 6338  163 2121    2  838  681   94\n",
      "   15    1  660    2    4   81 1635   17 2914  818]\n",
      "[None, None, None, None, None, None, None, None, None, None, 'the', 'holographic', 'principle', 'is', 'applied', 'to', 'a', 'flat', 'friedmann', 'robertson', 'walker', 'space', 'time', 'dominated', 'by', 'dark', 'energy', 'when', 'this', 'is', 'due', 'to', 'the', 'presence', 'of', 'a', 'k', 'essence', 'scalar', 'field', 'both', 'for', 'dark', 'energy', 'and', 'phantom', 'scenarios', 'in', 'this', 'framework', 'a', 'geometrical', 'covariant', 'approach', 'permits', 'the', 'construction', 'of', 'holographic', 'the', 'resulting', 'covariant', 'preferred', 'screens', 'both', 'for', 'phantom', 'and', 'non', 'phantom', 'regions', 'are', 'then', 'compared', 'with', 'those', 'obtained', 'by', 'using', 'the', 'holographic', 'dark', 'energy', 'model', 'with', 'the', 'future', 'event', 'horizon', 'as', 'the', 'infrared', 'cut', 'off', 'in', 'the', 'phantom', 'case', 'one', 'of', 'the', 'two', 'obtained', 'holographic', 'screens', 'is', 'placed', 'on', 'the', 'big', 'rip', 'hypersurface', 'both', 'for', 'the', 'covariant', 'holographic', 'formalism', 'and', 'the', 'holographic', 'phantom', 'model', 'it', 'is', 'also', 'analysed', 'whether', 'this', 'covariant', 'formalism', 'allows', 'a', 'mathematically', 'consistent', 'formulation', 'of', 'fundamental', 'theories', 'based', 'on', 'the', 'existence', 'of', 'a', 's', 'matrix', 'at', 'infinite', 'distances']\n",
      "astro-ph.CO\n",
      "prediction:  astro-ph.CO\n"
     ]
    }
   ],
   "source": [
    "jj = np.random.randint(len(x_test))\n",
    "print(x_test[jj])\n",
    "print(my_texts[training_samples+jj])\n",
    "print(label2target[y_test[jj]])\n",
    "print(\"prediction: \", label2target[class_prediction[jj]])"
   ]
  },
  {
   "cell_type": "code",
   "execution_count": 78,
   "metadata": {},
   "outputs": [
    {
     "name": "stdout",
     "output_type": "stream",
     "text": [
      "[[   0    0    0    0    0    0    0    0    0    0    0    0    0    0\n",
      "     0    0    0    0    0    0    0    0    0    0    0    0    0    0\n",
      "     0    0    0    0    0    0    0    0    0    0    0    0    0    0\n",
      "     0    0    0    0    0    0    0    0    0    0    0    0    0    0\n",
      "     0    0    0    0    0    0    0    0    0    0    0    0    0    0\n",
      "     0    0    0    0    0    0    0    0    0    0    0    0    0    0\n",
      "     0    0    0    0    0    0    0    0    0    0    0    0    0    0\n",
      "     0    0    0    0    0    0    0    0    0    0    0    0    0    0\n",
      "     0    0    0    0    0    0    0    0    0    0    0    0    0    7\n",
      "  5063    4  310    2  285  409   11  568    1 1272    2  147 3026    5\n",
      "     4 1735  118 1890    2    4 1995  505    3    4]]\n",
      "prediction:  [0.04826705 0.08450519 0.4984524  0.3305419  0.01982433 0.0184091 ]\n",
      "predicted category:  astro-ph.IM\n"
     ]
    }
   ],
   "source": [
    "abstract_testing = \"we formulate a set of linear equations that describe the behaviour of small eccentricities in a protoplanetary system consisting of a gaseous disc and a planet.\"\n",
    "seq_testing = tokenizer.texts_to_sequences([[ w for w in abstract_testing.split(' ')]])\n",
    "data_testing = pad_sequences(sequences=seq_testing, maxlen=maxlen)\n",
    "print(data_testing)\n",
    "classes_testing = model.predict(data_testing)\n",
    "print(\"prediction: \", classes_testing[0])\n",
    "print(\"predicted category: \", label2target[np.argmax(classes_testing[0])])"
   ]
  },
  {
   "cell_type": "code",
   "execution_count": 79,
   "metadata": {},
   "outputs": [
    {
     "data": {
      "text/plain": [
       "[<matplotlib.lines.Line2D at 0x7f0809f70cc0>]"
      ]
     },
     "execution_count": 79,
     "metadata": {},
     "output_type": "execute_result"
    },
    {
     "data": {
      "image/png": "[encoded data removed]",
      "text/plain": [
       "<Figure size 432x288 with 1 Axes>"
      ]
     },
     "metadata": {
      "needs_background": "light"
     },
     "output_type": "display_data"
    }
   ],
   "source": [
    "%matplotlib inline\n",
    "import matplotlib.pyplot as plt\n",
    "fig = plt.figure()\n",
    "ax = fig.add_subplot(111)\n",
    "ax.plot(history.epoch, history.history['loss'], 'bo')\n",
    "ax.plot(history.epoch, history.history['val_loss'], 'b')"
   ]
  },
  {
   "cell_type": "code",
   "execution_count": null,
   "metadata": {},
   "outputs": [],
   "source": []
  }
 ],
 "metadata": {
  "kernelspec": {
   "display_name": "tf-gpu-2",
   "language": "python",
   "name": "tf-gpu-2"
  },
  "language_info": {
   "codemirror_mode": {
    "name": "ipython",
    "version": 3
   },
   "file_extension": ".py",
   "mimetype": "text/x-python",
   "name": "python",
   "nbconvert_exporter": "python",
   "pygments_lexer": "ipython3",
   "version": "3.6.6"
  }
 },
 "nbformat": 4,
 "nbformat_minor": 2
}
