{
 "cells": [
  {
   "cell_type": "code",
   "execution_count": 1,
   "metadata": {},
   "outputs": [],
   "source": [
    "import numpy as np\n",
    "import pandas as pd\n",
    "\n",
    "target_name_dict = {'astro-ph.GA' : 0,\n",
    "                    'astro-ph.SR' : 1,\n",
    "                    'astro-ph.IM' : 2,\n",
    "                    'astro-ph.EP' : 3,\n",
    "                    'astro-ph.HE' : 4,\n",
    "                    'astro-ph.CO' : 5\n",
    "                }\n",
    "label2target = { v:k for k,v in target_name_dict.items()}"
   ]
  },
  {
   "cell_type": "code",
   "execution_count": 2,
   "metadata": {},
   "outputs": [],
   "source": [
    "df = pd.HDFStore(\"../data/2014astroph_p.h5\", \"r\")\n",
    "df['/df'].keys()\n",
    "abstracts = df['/df']['abstract']\n",
    "labels = np.array(df['/df']['label'])\n",
    "df.close()"
   ]
  },
  {
   "cell_type": "code",
   "execution_count": 3,
   "metadata": {},
   "outputs": [
    {
     "name": "stdout",
     "output_type": "stream",
     "text": [
      "6211 astro-ph.HE\n",
      "Very recently, the IceCube Collaboration reported a flux of neutrinos in the\n",
      "energy range 50 TeV < E_\\nu < 2 PeV, which departs from expectations from\n",
      "atmospheric background at the 5.7\\sigma level. This flux is in remarkable\n",
      "agreement with the expected diffuse flux of neutrinos from starburst galaxies,\n",
      "and the 3 highest energy events have uncertainty contours encompassing some of\n",
      "such systems. These events, all of which have well-measured energies above 1\n",
      "PeV, exhibit shower topologies, for which the angular resolution is about\n",
      "15^\\circ. Due to this angular uncertainty and the a posteriori nature of cuts\n",
      "used in our study it is not possible to assign a robust statistical\n",
      "significance to this association. Using muon tracks, which have angular\n",
      "resolution < 1^\\circ, we compute the number of observations required to make a\n",
      "statistically significant statement, and show that in a few years of operation\n",
      "the upgraded IceCube detector should be able to confirm or refute this\n",
      "hypothesis. We also note that double bang topology rates constitute a possible\n",
      "discriminator among various astrophysical sources.\n"
     ]
    }
   ],
   "source": [
    "j = np.random.randint(len(labels))\n",
    "print(j, label2target[labels[j]])\n",
    "print(abstracts[j])"
   ]
  },
  {
   "cell_type": "code",
   "execution_count": 4,
   "metadata": {},
   "outputs": [
    {
     "name": "stderr",
     "output_type": "stream",
     "text": [
      "Using TensorFlow backend.\n"
     ]
    }
   ],
   "source": [
    "from keras.preprocessing.text import Tokenizer\n",
    "from keras.preprocessing.sequence import pad_sequences"
   ]
  },
  {
   "cell_type": "code",
   "execution_count": 5,
   "metadata": {},
   "outputs": [],
   "source": [
    "# settings\n",
    "maxlen = 150\n",
    "max_words = 10000 # Top 10000 words\n",
    "training_samples = 6000 #"
   ]
  },
  {
   "cell_type": "code",
   "execution_count": 6,
   "metadata": {},
   "outputs": [
    {
     "name": "stdout",
     "output_type": "stream",
     "text": [
      "Found 30677 unique tokens\n"
     ]
    }
   ],
   "source": [
    "tokenizer = Tokenizer(num_words=max_words)\n",
    "tokenizer.fit_on_texts(abstracts)\n",
    "sequences = tokenizer.texts_to_sequences(abstracts)\n",
    "word_index = tokenizer.word_index\n",
    "\n",
    "print(\"Found %s unique tokens\" % len(word_index))\n",
    "\n",
    "word_index_reverse = dict()\n",
    "\n",
    "for k, v in word_index.items():\n",
    "    word_index_reverse[v] = k"
   ]
  },
  {
   "cell_type": "code",
   "execution_count": 7,
   "metadata": {},
   "outputs": [],
   "source": [
    "data = pad_sequences(sequences=sequences, maxlen=maxlen)\n",
    "indices = np.arange(abstracts.shape[0])\n",
    "\n",
    "np.random.seed(1234)\n",
    "\n",
    "np.random.shuffle(indices)\n",
    "\n",
    "data = data[indices]\n",
    "\n",
    "labels = labels[indices]\n",
    "\n",
    "x_train = data[:training_samples]\n",
    "y_train = labels[:training_samples]\n",
    "\n",
    "x_test = data[training_samples:]\n",
    "y_test = labels[training_samples:]"
   ]
  },
  {
   "cell_type": "code",
   "execution_count": 8,
   "metadata": {},
   "outputs": [],
   "source": [
    "#https://stackoverflow.com/questions/41971587/how-to-convert-predicted-sequence-back-to-text-in-keras\n",
    "# Creating a reverse dictionary\n",
    "reverse_word_map = dict(map(reversed, tokenizer.word_index.items()))\n",
    "\n",
    "# Function takes a tokenized sentence and returns the words\n",
    "def sequence_to_text(list_of_indices):\n",
    "    # Looking up words in dictionary\n",
    "    words = [reverse_word_map.get(letter) for letter in list_of_indices]\n",
    "    return(words)\n",
    "\n",
    "# Creating texts \n",
    "my_texts = list(map(sequence_to_text, data))\n",
    "\n",
    "# alternative way\n",
    "my_texts_2 = tokenizer.sequences_to_texts(sequences=sequences)"
   ]
  },
  {
   "cell_type": "code",
   "execution_count": 9,
   "metadata": {},
   "outputs": [
    {
     "name": "stdout",
     "output_type": "stream",
     "text": [
      "2788 astro-ph.CO\n",
      "['ia', 'data', 'in', 'recent', 'years', 'we', 'use', 'the', 'union2', '1', 'data', 'to', 'give', 'a', 'simple', 'classification', 'of', 'such', 'studies', 'for', 'the', 'first', 'time', 'because', 'the', 'maximum', 'anisotropic', 'direction', 'is', 'independent', 'of', 'isotropic', 'dark', 'energy', 'models', 'we', 'adopt', 'two', 'cosmological', 'models', 'lambda', 'cdm', 'w', 'cdm', 'for', 'the', 'hemisphere', 'comparison', 'analysis', 'and', 'lambda', 'cdm', 'model', 'for', 'dipole', 'fit', 'approach', 'in', 'hemisphere', 'comparison', 'method', 'the', 'matter', 'density', 'and', 'the', 'equation', 'of', 'state', 'of', 'dark', 'energy', 'are', 'adopted', 'as', 'the', 'diagnostic', 'in', 'the', 'lambda', 'cdm', 'model', 'and', 'w', 'cdm', 'model', 'respectively', 'in', 'dipole', 'fit', 'approach', 'we', 'fit', 'the', 'fluctuation', 'of', 'distance', 'modulus', 'we', 'find', 'that', 'there', 'is', 'a', 'null', 'signal', 'for', 'the', 'hemisphere', 'comparison', 'method', 'while', 'a', 'preferred', 'direction', 'b', '14', '3', 'circ', 'pm', '10', '1', 'circ', 'l', '1', 'circ', 'pm', '16', '2', 'circ', 'for', 'the', 'dipole', 'fit', 'method', 'this', 'result', 'indicates', 'that', 'the', 'dipole', 'fit', 'is', 'more', 'sensitive', 'than', 'the', 'hemisphere', 'comparison', 'method']\n"
     ]
    }
   ],
   "source": [
    "j = np.random.randint(len(x_train))\n",
    "print(j, label2target[y_train[j]])\n",
    "print(my_texts[j])"
   ]
  },
  {
   "cell_type": "code",
   "execution_count": 10,
   "metadata": {},
   "outputs": [],
   "source": [
    "from keras.utils.np_utils import to_categorical\n",
    "y_train_one_hot = to_categorical(y_train)\n",
    "y_test_one_hot = to_categorical(y_test)"
   ]
  },
  {
   "cell_type": "code",
   "execution_count": 11,
   "metadata": {},
   "outputs": [],
   "source": [
    "from keras.models import Sequential\n",
    "import keras.layers as layers"
   ]
  },
  {
   "cell_type": "code",
   "execution_count": 15,
   "metadata": {},
   "outputs": [
    {
     "name": "stdout",
     "output_type": "stream",
     "text": [
      "_________________________________________________________________\n",
      "Layer (type)                 Output Shape              Param #   \n",
      "=================================================================\n",
      "embedding_2 (Embedding)      (None, 150, 100)          1000000   \n",
      "_________________________________________________________________\n",
      "lstm_2 (LSTM)                (None, 32)                17024     \n",
      "_________________________________________________________________\n",
      "dense_2 (Dense)              (None, 6)                 198       \n",
      "=================================================================\n",
      "Total params: 1,017,222\n",
      "Trainable params: 1,017,222\n",
      "Non-trainable params: 0\n",
      "_________________________________________________________________\n"
     ]
    }
   ],
   "source": [
    "model = Sequential()\n",
    "embeddings_dim = 100\n",
    "model.add(layers.Embedding(max_words, embeddings_dim, input_length=maxlen))\n",
    "#model.add(layers.Flatten())\n",
    "#model.add(layers.Dense(64, activation='relu', input_shape=(maxlen,)))\n",
    "model.add(layers.LSTM(32))\n",
    "model.add(layers.Dense(6, activation='softmax'))\n",
    "model.summary()"
   ]
  },
  {
   "cell_type": "code",
   "execution_count": 16,
   "metadata": {},
   "outputs": [],
   "source": [
    "#model.layers[0].set_weights([embedding_matrix])\n",
    "#model.layers[0].trainable= False"
   ]
  },
  {
   "cell_type": "code",
   "execution_count": 17,
   "metadata": {},
   "outputs": [
    {
     "name": "stdout",
     "output_type": "stream",
     "text": [
      "Train on 4200 samples, validate on 1800 samples\n",
      "Epoch 1/20\n",
      "4200/4200 [==============================] - 16s 4ms/step - loss: 1.5056 - acc: 0.4114 - val_loss: 1.3825 - val_acc: 0.4761\n",
      "Epoch 2/20\n",
      "4200/4200 [==============================] - 15s 4ms/step - loss: 1.2574 - acc: 0.5110 - val_loss: 1.2900 - val_acc: 0.5050\n",
      "Epoch 3/20\n",
      "4200/4200 [==============================] - 15s 4ms/step - loss: 1.0792 - acc: 0.5760 - val_loss: 1.2797 - val_acc: 0.5106\n",
      "Epoch 4/20\n",
      "4200/4200 [==============================] - 15s 4ms/step - loss: 0.9039 - acc: 0.6367 - val_loss: 1.2789 - val_acc: 0.5472\n",
      "Epoch 5/20\n",
      "4200/4200 [==============================] - 16s 4ms/step - loss: 0.7552 - acc: 0.7055 - val_loss: 1.7578 - val_acc: 0.5250\n",
      "Epoch 6/20\n",
      "4200/4200 [==============================] - 16s 4ms/step - loss: 0.6226 - acc: 0.7969 - val_loss: 1.1802 - val_acc: 0.5800\n",
      "Epoch 7/20\n",
      "4200/4200 [==============================] - 15s 4ms/step - loss: 0.4777 - acc: 0.8631 - val_loss: 1.3916 - val_acc: 0.6000\n",
      "Epoch 8/20\n",
      "4200/4200 [==============================] - 16s 4ms/step - loss: 0.3819 - acc: 0.8974 - val_loss: 1.2028 - val_acc: 0.5928\n",
      "Epoch 9/20\n",
      "4200/4200 [==============================] - 16s 4ms/step - loss: 0.2890 - acc: 0.9248 - val_loss: 1.2781 - val_acc: 0.6067\n",
      "Epoch 10/20\n",
      "4200/4200 [==============================] - 16s 4ms/step - loss: 0.2091 - acc: 0.9445 - val_loss: 1.4412 - val_acc: 0.6233\n",
      "Epoch 11/20\n",
      "4200/4200 [==============================] - 16s 4ms/step - loss: 0.1420 - acc: 0.9633 - val_loss: 1.4132 - val_acc: 0.6067\n",
      "Epoch 12/20\n",
      "4200/4200 [==============================] - 16s 4ms/step - loss: 0.1072 - acc: 0.9717 - val_loss: 1.5269 - val_acc: 0.6150\n",
      "Epoch 13/20\n",
      "4200/4200 [==============================] - 16s 4ms/step - loss: 0.0828 - acc: 0.9807 - val_loss: 1.5045 - val_acc: 0.6350\n",
      "Epoch 14/20\n",
      "4200/4200 [==============================] - 16s 4ms/step - loss: 0.0646 - acc: 0.9840 - val_loss: 1.5875 - val_acc: 0.6233\n",
      "Epoch 15/20\n",
      "4200/4200 [==============================] - 16s 4ms/step - loss: 0.0562 - acc: 0.9857 - val_loss: 1.6385 - val_acc: 0.6306\n",
      "Epoch 16/20\n",
      "4200/4200 [==============================] - 16s 4ms/step - loss: 0.0366 - acc: 0.9912 - val_loss: 1.7019 - val_acc: 0.6411\n",
      "Epoch 17/20\n",
      "4200/4200 [==============================] - 16s 4ms/step - loss: 0.0325 - acc: 0.9914 - val_loss: 1.9060 - val_acc: 0.6061\n",
      "Epoch 18/20\n",
      "4200/4200 [==============================] - 16s 4ms/step - loss: 0.0311 - acc: 0.9914 - val_loss: 1.8298 - val_acc: 0.6394\n",
      "Epoch 19/20\n",
      "4200/4200 [==============================] - 16s 4ms/step - loss: 0.0268 - acc: 0.9933 - val_loss: 1.9104 - val_acc: 0.6367\n",
      "Epoch 20/20\n",
      "4200/4200 [==============================] - 16s 4ms/step - loss: 0.0124 - acc: 0.9974 - val_loss: 2.1351 - val_acc: 0.6350\n"
     ]
    }
   ],
   "source": [
    "model.compile(optimizer='rmsprop', loss='categorical_crossentropy', metrics=['acc'])\n",
    "history = model.fit(x_train, y_train_one_hot,\n",
    "                   epochs=20,\n",
    "                   batch_size=32,\n",
    "                   validation_split=0.3)\n",
    "#model.save_weights('pre_trained_glove_model_2.h5')"
   ]
  },
  {
   "cell_type": "code",
   "execution_count": 18,
   "metadata": {},
   "outputs": [
    {
     "name": "stdout",
     "output_type": "stream",
     "text": [
      "2794/2794 [==============================] - 3s 1ms/step\n"
     ]
    }
   ],
   "source": [
    "results = model.evaluate(x_test, y_test_one_hot)\n",
    "class_prediction = model.predict_classes(x_test)"
   ]
  },
  {
   "cell_type": "code",
   "execution_count": 19,
   "metadata": {},
   "outputs": [
    {
     "data": {
      "text/plain": [
       "[2.0265545240878717, 0.6528274874304906]"
      ]
     },
     "execution_count": 19,
     "metadata": {},
     "output_type": "execute_result"
    }
   ],
   "source": [
    "results"
   ]
  },
  {
   "cell_type": "code",
   "execution_count": 20,
   "metadata": {},
   "outputs": [
    {
     "name": "stdout",
     "output_type": "stream",
     "text": [
      "[   1 1692  245  131  146 7472   10   16  785  789    6    4   24  571\n",
      " 6236    2   65  727   13   18  423   18   79   10   33    2   20   79\n",
      "   48  296 2001    6  926   10  188  441  160   22   79   48  296    1\n",
      " 3261  131  597 3910    9  223 1264   11  673  810   12  147   10 1811\n",
      "  584 5151   33  673  810 1716   14    2    1   44    2 5151   33 1460\n",
      " 1245   97   12 1545    6 1926  492    2    1  147  178    2   83 1174\n",
      "  553   33 1164   76   24    3  823  264 1102  457  160   85    8   21\n",
      "  301  155    2 1342 1204    3   92   19    4 1767  155    2  673 1204\n",
      "   18   83    9 1660  999   10  264   35    8  418   11  673  810    5\n",
      "    1  971  158   27   19  933    6   50  481   46    1 1342  810 3281\n",
      "  727   11   12  672    6  160   25   10  110   33]\n",
      "['the', 'eclipsing', 'binary', 'sample', 'if', 'unaccounted', 'for', 'this', 'bias', 'leads', 'to', 'a', 'mass', 'dependent', 'underestimate', 'of', 'stellar', 'radii', 'by', 'as', 'much', 'as', '4', 'for', 'stars', 'of', '0', '4', 'm', 'sun', 'decreasing', 'to', 'zero', 'for', 'masses', 'above', 'about', '1', '4', 'm', 'sun', 'the', 'asteroseismic', 'sample', 'suggests', 'albeit', 'with', 'significant', 'uncertainty', 'that', 'systematic', 'errors', 'are', 'small', 'for', 'slowly', 'rotating', 'inactive', 'stars', 'systematic', 'errors', 'arising', 'from', 'of', 'the', 'models', 'of', 'inactive', 'stars', 'probably', 'exist', 'but', 'are', 'difficult', 'to', 'assess', 'because', 'of', 'the', 'small', 'number', 'of', 'well', 'characterized', 'comparison', 'stars', 'having', 'low', 'mass', 'and', 'slow', 'rotation', 'poor', 'information', 'about', 'z', 'is', 'an', 'important', 'source', 'of', 'random', 'error', 'and', 'may', 'be', 'a', 'minor', 'source', 'of', 'systematic', 'error', 'as', 'well', 'with', 'suitable', 'corrections', 'for', 'rotation', 'it', 'is', 'likely', 'that', 'systematic', 'errors', 'in', 'the', 'rho', 'method', 'can', 'be', 'comparable', 'to', 'or', 'smaller', 'than', 'the', 'random', 'errors', 'yielding', 'radii', 'that', 'are', 'accurate', 'to', 'about', '2', 'for', 'most', 'stars']\n",
      "astro-ph.SR\n",
      "prediction:  astro-ph.SR\n"
     ]
    }
   ],
   "source": [
    "jj = np.random.randint(len(x_test))\n",
    "print(x_test[jj])\n",
    "print(my_texts[training_samples+jj])\n",
    "print(label2target[y_test[jj]])\n",
    "print(\"prediction: \", label2target[class_prediction[jj]])"
   ]
  },
  {
   "cell_type": "code",
   "execution_count": 31,
   "metadata": {},
   "outputs": [
    {
     "name": "stdout",
     "output_type": "stream",
     "text": [
      "[[   0    0    0    0    0    0    0    0    0    0    0    0    0    0\n",
      "     0    0    0    0    0    0    0    0    0    0    0    0    0    0\n",
      "     0    0    0    0    0    0    0    0    0    0    0    0    0    0\n",
      "     0    0    0    0    0    0    0    0    0    0    0    0    0    0\n",
      "     0    0    0    0    0    0    0    0    0    0    0    0    0    0\n",
      "     0    0    0    0    0    0    0    0    0    0    0    0    0    0\n",
      "     0    0    0    0    0    0    0    0    0    0    0    0    0    0\n",
      "     0    0    0    0    0    0    0    0    0    0    0    0    0    0\n",
      "     0    0    0    0    0    0    0    0    0    0    0    0    0    7\n",
      "  5063    4  310    2  285  409   11  568    1 1272    2  147 3026    5\n",
      "     4 1735  118 1890    2    4 1995  505    3    4]]\n",
      "prediction:  [2.3874557e-02 5.5116252e-03 7.4725397e-02 8.9477998e-01 3.3034431e-04\n",
      " 7.7814108e-04]\n",
      "predicted category:  astro-ph.EP\n"
     ]
    }
   ],
   "source": [
    "abstract_testing = \"We formulate a set of linear equations that describe the behaviour of small eccentricities in a protoplanetary system consisting of a gaseous disc and a planet.\"\n",
    "seq_testing = tokenizer.texts_to_sequences([[ w for w in abstract_testing.split(' ')]])\n",
    "data_testing = pad_sequences(sequences=seq_testing, maxlen=maxlen)\n",
    "print(data_testing)\n",
    "classes_testing = model.predict(data_testing)\n",
    "print(\"prediction: \", classes_testing[0])\n",
    "print(\"predicted category: \", label2target[np.argmax(classes_testing[0])])"
   ]
  },
  {
   "cell_type": "code",
   "execution_count": 35,
   "metadata": {},
   "outputs": [
    {
     "data": {
      "text/plain": [
       "[<matplotlib.lines.Line2D at 0x7f080d98e6d8>]"
      ]
     },
     "execution_count": 35,
     "metadata": {},
     "output_type": "execute_result"
    },
    {
     "data": {
      "image/png": "[encoded data removed]",
      "text/plain": [
       "<Figure size 432x288 with 1 Axes>"
      ]
     },
     "metadata": {
      "needs_background": "light"
     },
     "output_type": "display_data"
    }
   ],
   "source": [
    "%matplotlib inline\n",
    "import matplotlib.pyplot as plt\n",
    "fig = plt.figure()\n",
    "ax = fig.add_subplot(111)\n",
    "ax.plot(history.epoch, history.history['loss'], 'bo')\n",
    "ax.plot(history.epoch, history.history['val_loss'], 'b')"
   ]
  },
  {
   "cell_type": "code",
   "execution_count": null,
   "metadata": {},
   "outputs": [],
   "source": []
  }
 ],
 "metadata": {
  "kernelspec": {
   "display_name": "tf-gpu-2",
   "language": "python",
   "name": "tf-gpu-2"
  },
  "language_info": {
   "codemirror_mode": {
    "name": "ipython",
    "version": 3
   },
   "file_extension": ".py",
   "mimetype": "text/x-python",
   "name": "python",
   "nbconvert_exporter": "python",
   "pygments_lexer": "ipython3",
   "version": "3.6.6"
  }
 },
 "nbformat": 4,
 "nbformat_minor": 2
}
