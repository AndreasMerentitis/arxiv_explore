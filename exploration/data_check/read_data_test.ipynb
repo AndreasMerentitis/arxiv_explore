{
 "cells": [
  {
   "cell_type": "code",
   "execution_count": 42,
   "metadata": {},
   "outputs": [],
   "source": [
    "import numpy as np\n",
    "import pandas as pd\n",
    "\n",
    "target_name_dict = { 'astro-ph.GA' : 0,\n",
    "                    'astro-ph.SR' : 1,\n",
    "                    'astro-ph.IM' : 2,\n",
    "                    'astro-ph.EP' : 3,\n",
    "                    'astro-ph.HE' : 4,\n",
    "                    'astro-ph.CO' : 5\n",
    "                }\n",
    "label2target = { v:k for k,v in target_name_dict.items()}"
   ]
  },
  {
   "cell_type": "code",
   "execution_count": 43,
   "metadata": {},
   "outputs": [],
   "source": [
    "df = pd.HDFStore(\"../data/2014astroph_p.h5\")\n",
    "df['/df'].keys()\n",
    "abstracts = df['/df']['abstract']\n",
    "labels = np.array(df['/df']['label'])\n",
    "df.close()"
   ]
  },
  {
   "cell_type": "code",
   "execution_count": 44,
   "metadata": {},
   "outputs": [],
   "source": [
    "df.close()"
   ]
  },
  {
   "cell_type": "code",
   "execution_count": null,
   "metadata": {},
   "outputs": [],
   "source": []
  },
  {
   "cell_type": "code",
   "execution_count": null,
   "metadata": {},
   "outputs": [],
   "source": []
  },
  {
   "cell_type": "code",
   "execution_count": 45,
   "metadata": {},
   "outputs": [
    {
     "name": "stdout",
     "output_type": "stream",
     "text": [
      "1974 astro-ph.EP\n",
      "With an average eccentricity of about 0.29, the eccentricity distribution of\n",
      "extrasolar planets is markedly different from the solar system. Among other\n",
      "scenarios considered, it has been proposed that eccentricity may grow through\n",
      "planet-disc interaction. Recently, it has been noticed that the thermodynamical\n",
      "state of the disc can significantly influence the migration properties of\n",
      "growing protoplanets. However, the evolution of planetary eccentricity in\n",
      "radiative discs has not been considered yet. In this paper we study the\n",
      "evolution of planets on eccentric orbits that are embedded in a\n",
      "three-dimensional viscous disc and analyse the disc's effect on the orbital\n",
      "evolution of the planet. We use the three-dimensional hydrodynamical code\n",
      "NIRVANA that includes full tensor viscosity and implicit radiation transport in\n",
      "the flux-limited diffusion approximation. The code uses the FARGO-algorithm to\n",
      "speed up the simulations. First we measure the torque and power exerted on the\n",
      "planet by the disc for fixed orbits, and then we let the planet start with\n",
      "initial eccentricity and evolve it in the disc. For locally isothermal we\n",
      "confirm previous results and find eccentricity damping and inward migration for\n",
      "planetary cores. In the case of radiative discs, the planets experience an\n",
      "inward migration as long as its eccentricity lies above a certain threshold.\n",
      "After the damping of eccentricity cores with masses below 33 Earthmasses begin\n",
      "to migrate outward in radiative discs, while higher mass cores always migrate\n",
      "inward. For all planetary masses studied (up to 200 Earthmasses) we find\n",
      "eccentricity damping. In viscous discs the orbital eccentricity of embedded\n",
      "planets is damped during the evolution independent of the mass. Hence,\n",
      "planet-disc interaction does not seem to be a viable mechanism to explain the\n",
      "observed high eccentricity of exoplanets.\n"
     ]
    }
   ],
   "source": [
    "j = np.random.randint(len(labels))\n",
    "print(j, label2target[labels[j]])\n",
    "print(abstracts[j])"
   ]
  },
  {
   "cell_type": "code",
   "execution_count": 26,
   "metadata": {},
   "outputs": [
    {
     "data": {
      "text/plain": [
       "65"
      ]
     },
     "execution_count": 26,
     "metadata": {},
     "output_type": "execute_result"
    }
   ],
   "source": []
  },
  {
   "cell_type": "code",
   "execution_count": 25,
   "metadata": {},
   "outputs": [
    {
     "data": {
      "text/plain": [
       "'astro-ph.CO'"
      ]
     },
     "execution_count": 25,
     "metadata": {},
     "output_type": "execute_result"
    }
   ],
   "source": []
  },
  {
   "cell_type": "code",
   "execution_count": null,
   "metadata": {},
   "outputs": [],
   "source": []
  }
 ],
 "metadata": {
  "kernelspec": {
   "display_name": "tf-gpu-2",
   "language": "python",
   "name": "tf-gpu-2"
  },
  "language_info": {
   "codemirror_mode": {
    "name": "ipython",
    "version": 3
   },
   "file_extension": ".py",
   "mimetype": "text/x-python",
   "name": "python",
   "nbconvert_exporter": "python",
   "pygments_lexer": "ipython3",
   "version": "3.6.6"
  }
 },
 "nbformat": 4,
 "nbformat_minor": 2
}
